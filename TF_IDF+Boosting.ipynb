{
 "cells": [
  {
   "cell_type": "markdown",
   "metadata": {
    "id": "cwnPSV-01u49"
   },
   "source": [
    "# Загрузка данных"
   ]
  },
  {
   "cell_type": "code",
   "execution_count": 1,
   "metadata": {
    "id": "JpvwiCxgtnBE"
   },
   "outputs": [],
   "source": [
    "import pandas as pd\n",
    "import ast\n",
    "import numpy as np\n",
    "from datetime import datetime\n",
    "from sklearn.feature_extraction.text import TfidfVectorizer\n",
    "from sklearn.metrics.pairwise import cosine_similarity\n",
    "from sklearn.ensemble import GradientBoostingClassifier, RandomForestClassifier, VotingClassifier\n",
    "from sklearn.linear_model import LogisticRegression\n",
    "from sklearn.model_selection import train_test_split\n",
    "from catboost import CatBoostClassifier\n",
    "from sklearn.metrics import accuracy_score, classification_report, confusion_matrix"
   ]
  },
  {
   "cell_type": "code",
   "execution_count": 2,
   "metadata": {},
   "outputs": [
    {
     "name": "stdout",
     "output_type": "stream",
     "text": [
      "Requirement already satisfied: CatBoost in c:\\users\\mashk\\appdata\\local\\programs\\python\\python310\\lib\\site-packages (1.2.2)\n",
      "Requirement already satisfied: graphviz in c:\\users\\mashk\\appdata\\local\\programs\\python\\python310\\lib\\site-packages (from CatBoost) (0.20.1)\n",
      "Requirement already satisfied: matplotlib in c:\\users\\mashk\\appdata\\local\\programs\\python\\python310\\lib\\site-packages (from CatBoost) (3.6.2)\n",
      "Requirement already satisfied: numpy>=1.16.0 in c:\\users\\mashk\\appdata\\local\\programs\\python\\python310\\lib\\site-packages (from CatBoost) (1.24.4)\n",
      "Requirement already satisfied: pandas>=0.24 in c:\\users\\mashk\\appdata\\local\\programs\\python\\python310\\lib\\site-packages (from CatBoost) (2.0.3)\n",
      "Requirement already satisfied: scipy in c:\\users\\mashk\\appdata\\local\\programs\\python\\python310\\lib\\site-packages (from CatBoost) (1.8.0)\n",
      "Requirement already satisfied: plotly in c:\\users\\mashk\\appdata\\local\\programs\\python\\python310\\lib\\site-packages (from CatBoost) (5.18.0)\n",
      "Requirement already satisfied: six in c:\\users\\mashk\\appdata\\local\\programs\\python\\python310\\lib\\site-packages (from CatBoost) (1.16.0)\n",
      "Requirement already satisfied: python-dateutil>=2.8.2 in c:\\users\\mashk\\appdata\\local\\programs\\python\\python310\\lib\\site-packages (from pandas>=0.24->CatBoost) (2.8.2)\n",
      "Requirement already satisfied: pytz>=2020.1 in c:\\users\\mashk\\appdata\\local\\programs\\python\\python310\\lib\\site-packages (from pandas>=0.24->CatBoost) (2023.3.post1)\n",
      "Requirement already satisfied: tzdata>=2022.1 in c:\\users\\mashk\\appdata\\local\\programs\\python\\python310\\lib\\site-packages (from pandas>=0.24->CatBoost) (2023.3)\n",
      "Requirement already satisfied: contourpy>=1.0.1 in c:\\users\\mashk\\appdata\\local\\programs\\python\\python310\\lib\\site-packages (from matplotlib->CatBoost) (1.1.1)\n",
      "Requirement already satisfied: cycler>=0.10 in c:\\users\\mashk\\appdata\\local\\programs\\python\\python310\\lib\\site-packages (from matplotlib->CatBoost) (0.12.1)\n",
      "Requirement already satisfied: fonttools>=4.22.0 in c:\\users\\mashk\\appdata\\local\\programs\\python\\python310\\lib\\site-packages (from matplotlib->CatBoost) (4.43.1)\n",
      "Requirement already satisfied: kiwisolver>=1.0.1 in c:\\users\\mashk\\appdata\\local\\programs\\python\\python310\\lib\\site-packages (from matplotlib->CatBoost) (1.4.5)\n",
      "Requirement already satisfied: packaging>=20.0 in c:\\users\\mashk\\appdata\\local\\programs\\python\\python310\\lib\\site-packages (from matplotlib->CatBoost) (23.2)\n",
      "Requirement already satisfied: pillow>=6.2.0 in c:\\users\\mashk\\appdata\\local\\programs\\python\\python310\\lib\\site-packages (from matplotlib->CatBoost) (10.0.1)\n",
      "Requirement already satisfied: pyparsing>=2.2.1 in c:\\users\\mashk\\appdata\\local\\programs\\python\\python310\\lib\\site-packages (from matplotlib->CatBoost) (3.1.1)\n",
      "Requirement already satisfied: tenacity>=6.2.0 in c:\\users\\mashk\\appdata\\local\\programs\\python\\python310\\lib\\site-packages (from plotly->CatBoost) (8.2.3)\n"
     ]
    },
    {
     "name": "stderr",
     "output_type": "stream",
     "text": [
      "\n",
      "[notice] A new release of pip is available: 23.3.1 -> 24.0\n",
      "[notice] To update, run: python.exe -m pip install --upgrade pip\n"
     ]
    }
   ],
   "source": [
    "!pip install CatBoost"
   ]
  },
  {
   "cell_type": "code",
   "execution_count": 3,
   "metadata": {
    "colab": {
     "base_uri": "https://localhost:8080/"
    },
    "id": "V02fY9g0vvOa",
    "outputId": "c6061c22-9162-4b12-dd78-4b5407a8009f"
   },
   "outputs": [],
   "source": [
    "vac = pd.read_csv('vacancy.csv')\n",
    "res = pd.read_csv('resume.csv')\n",
    "res = res.drop(columns = 'salary_currency')\n",
    "vac = vac[['id', 'experience', 'accept_kids', 'area', 'name', 'description', 'professional_roles', 'key_skills', 'languages']]"
   ]
  },
  {
   "cell_type": "markdown",
   "metadata": {},
   "source": [
    "## Обработка резюме"
   ]
  },
  {
   "cell_type": "code",
   "execution_count": 4,
   "metadata": {},
   "outputs": [],
   "source": [
    "def year_ex(i):\n",
    "    if 'от' in i.lower():\n",
    "        str = i.lower().split()\n",
    "        a = int(str[1])\n",
    "    elif 'более' in i.lower():\n",
    "        str = i.lower().split()\n",
    "        a = int(str[1])\n",
    "    else:\n",
    "        a = 0\n",
    "    return a\n",
    "vac['experience'] = vac['experience'].apply(year_ex)"
   ]
  },
  {
   "cell_type": "code",
   "execution_count": 5,
   "metadata": {},
   "outputs": [],
   "source": [
    "def calculate_age(birthdate):\n",
    "    today = datetime.today()\n",
    "    age = today.year - birthdate.year - ((today.month, today.day) < (birthdate.month, birthdate.day))\n",
    "    return age\n",
    "\n",
    "res['birth_date'] = pd.to_datetime(res['birth_date'])\n",
    "res['age'] = res['birth_date'].apply(calculate_age)"
   ]
  },
  {
   "cell_type": "code",
   "execution_count": 6,
   "metadata": {},
   "outputs": [],
   "source": [
    "replace_dict = {\n",
    "    'Higher education (bachelor)': 'Высшее образование (Бакалавр)',\n",
    "    'Higher education (master)': 'Высшее образование (Магистр)',\n",
    "    'Higher education': 'Высшее образование',\n",
    "    'Higher education (Doctor of Science)': 'Высшее образование (Доктор наук)',\n",
    "    'Incomplete higher education': 'Неоконченное высшее образование',\n",
    "    'Secondary special education': 'Среднее специальное образование',\n",
    "    'Education': 'Образование'\n",
    "}\n",
    "res['education_level'] = res['education_level'].replace(replace_dict)"
   ]
  },
  {
   "cell_type": "code",
   "execution_count": 7,
   "metadata": {},
   "outputs": [],
   "source": [
    "def dicts_in_string(input_string):\n",
    "    data = ast.literal_eval(input_string)\n",
    "    text = ''\n",
    "    day = 0\n",
    "    for i in data:\n",
    "        if i['end'] is None:\n",
    "            i['end'] = datetime.today().strftime('%d-%m-%Y')\n",
    "        day += (datetime.strptime(i['end'], \"%d-%m-%Y\")-datetime.strptime(i['start'], \"%d-%m-%Y\")).days\n",
    "        text += i['description'].replace(\"\\n\", \"\").replace(\"\\r\", \"\").replace(\"●\", \"\")+'. '\n",
    "    years = day/365\n",
    "    return  years, text\n",
    "res['exp_days'], res['exp_text'] = zip(*res['experience'].apply(dicts_in_string))"
   ]
  },
  {
   "cell_type": "code",
   "execution_count": 8,
   "metadata": {},
   "outputs": [],
   "source": [
    "def merge_unique_elements(row):\n",
    "    return np.unique([row['specialization_names'], row['title']])\n",
    "\n",
    "res['specialization_names'] = res.apply(merge_unique_elements, axis=1)"
   ]
  },
  {
   "cell_type": "code",
   "execution_count": 9,
   "metadata": {},
   "outputs": [],
   "source": [
    "def dicts_in_lang(input_string):\n",
    "    data = ast.literal_eval(input_string)\n",
    "    text = ''\n",
    "    day = 0\n",
    "    if len(data) == 0:\n",
    "        return 0\n",
    "    for i in data:\n",
    "        text += i['name'] + ' ' + i['level'] +', '\n",
    "    return text\n",
    "res['language'] = res['language'].apply(dicts_in_lang)"
   ]
  },
  {
   "cell_type": "code",
   "execution_count": 10,
   "metadata": {},
   "outputs": [],
   "source": [
    "def merge_unique_elements2(row):\n",
    "    text1, text2 = '', ''\n",
    "    if row['skills'] is not np.NaN:\n",
    "        text1 = row['skills'].replace(\"\\n\", \"\").replace(\"\\r\", \"\")\n",
    "    if row['exp_text'] is not np.NaN:\n",
    "        text2 = row['exp_text'].replace(\"\\n\", \"\").replace(\"\\r\", \"\")\n",
    "    return text1 + text2\n",
    "\n",
    "res['skills'] = res.apply(merge_unique_elements2, axis=1)"
   ]
  },
  {
   "cell_type": "code",
   "execution_count": 11,
   "metadata": {},
   "outputs": [],
   "source": [
    "res = res.drop(columns=['title', 'skill_set', 'exp_text', 'salary_amount', 'birth_date', 'experience'])"
   ]
  },
  {
   "cell_type": "markdown",
   "metadata": {},
   "source": [
    "## Обработка вакансии"
   ]
  },
  {
   "cell_type": "code",
   "execution_count": 12,
   "metadata": {},
   "outputs": [],
   "source": [
    "def merge_unique_elements_vac(row):\n",
    "    return np.unique([*ast.literal_eval(row['professional_roles']), row['name']])\n",
    "\n",
    "vac['professional_roles'] = vac.apply(merge_unique_elements_vac, axis=1)"
   ]
  },
  {
   "cell_type": "code",
   "execution_count": 13,
   "metadata": {},
   "outputs": [],
   "source": [
    "def merge_unique_elements2(row):\n",
    "    text1, text2 = '', ''\n",
    "    if row['description'] is not np.NaN:\n",
    "        text1 = row['description'].replace(\"\\n\", \"\").replace(\"\\r\", \"\")\n",
    "    if row['key_skills'] is not np.NaN:\n",
    "        text2 = ' '.join(row['key_skills'])\n",
    "    return text1 + text2\n",
    "vac['description'] = vac.apply(merge_unique_elements2, axis=1)"
   ]
  },
  {
   "cell_type": "code",
   "execution_count": 14,
   "metadata": {},
   "outputs": [],
   "source": [
    "def dicts_in_lang_vac(input_string):\n",
    "    data = ast.literal_eval(input_string)\n",
    "    text = ''\n",
    "    day = 0\n",
    "    if len(data) == 0:\n",
    "        return 0\n",
    "    for i in data:\n",
    "        text += i['name'] + ' ' + i['level']['name'] +', '\n",
    "    return text\n",
    "vac['languages'] = vac['languages'].apply(dicts_in_lang_vac)"
   ]
  },
  {
   "cell_type": "code",
   "execution_count": 15,
   "metadata": {},
   "outputs": [],
   "source": [
    "vac = vac.drop(columns=['name', 'key_skills'])"
   ]
  },
  {
   "cell_type": "markdown",
   "metadata": {
    "id": "IWdyI6u8tnBK"
   },
   "source": [
    "## Очистка описания вакансий"
   ]
  },
  {
   "cell_type": "code",
   "execution_count": 16,
   "metadata": {
    "colab": {
     "base_uri": "https://localhost:8080/"
    },
    "id": "4eWgPnjftnBM",
    "outputId": "101bc337-7c5d-4fdb-db2d-579935ebb842"
   },
   "outputs": [
    {
     "name": "stderr",
     "output_type": "stream",
     "text": [
      "[nltk_data] Downloading package stopwords to\n",
      "[nltk_data]     C:\\Users\\mashk\\AppData\\Roaming\\nltk_data...\n",
      "[nltk_data]   Package stopwords is already up-to-date!\n"
     ]
    }
   ],
   "source": [
    "import re\n",
    "import nltk\n",
    "import pymorphy2\n",
    "from nltk.corpus import stopwords\n",
    "from nltk.tokenize import WhitespaceTokenizer\n",
    "\n",
    "nltk.download('stopwords')\n",
    "\n",
    "stop_words_ru = set(stopwords.words('russian'))\n",
    "stop_words_en = set(stopwords.words('english'))\n",
    "stop_words = stop_words_ru.union(stop_words_en)\n",
    "\n",
    "morph = pymorphy2.MorphAnalyzer()\n",
    "\n",
    "def clean_text(text):\n",
    "    if not isinstance(text, str):\n",
    "        return text\n",
    "    text = re.sub(r\"<.*?>\", \" \", text)\n",
    "    text = re.sub(r\" +\", \" \", text)\n",
    "    text = re.sub(r\"[^\\w\\s]\", \" \", text)\n",
    "    text = re.sub(r'(:\\w+:)', '', text)\n",
    "    tokens = WhitespaceTokenizer().tokenize(text)\n",
    "    tokens = [token.lower() for token in tokens if token.lower() not in stop_words]\n",
    "    tokens = [morph.parse(token)[0].normal_form for token in tokens]\n",
    "\n",
    "    return tokens\n"
   ]
  },
  {
   "cell_type": "code",
   "execution_count": null,
   "metadata": {
    "id": "PfvJv4NltnBN"
   },
   "outputs": [],
   "source": [
    "res['skills'] = res['skills'].apply(lambda x: clean_text(x))"
   ]
  },
  {
   "cell_type": "code",
   "execution_count": null,
   "metadata": {
    "id": "2MdC26gGMQDI"
   },
   "outputs": [],
   "source": [
    "vac['description'] = vac['description'].apply(lambda x: clean_text(x))"
   ]
  },
  {
   "cell_type": "markdown",
   "metadata": {
    "id": "-4ANB6Sozyix"
   },
   "source": [
    "## Дополнительные обработка"
   ]
  },
  {
   "cell_type": "code",
   "execution_count": null,
   "metadata": {},
   "outputs": [],
   "source": [
    "def count_dicts_in_string(input_string):\n",
    "    data = ast.literal_eval(input_string)\n",
    "    count = len(data)\n",
    "    return count"
   ]
  },
  {
   "cell_type": "code",
   "execution_count": null,
   "metadata": {},
   "outputs": [],
   "source": [
    "res['count_education'] = res['education'].apply(count_dicts_in_string)"
   ]
  },
  {
   "cell_type": "markdown",
   "metadata": {},
   "source": [
    "## Перевод всех текстовых параметров в числа"
   ]
  },
  {
   "cell_type": "code",
   "execution_count": null,
   "metadata": {},
   "outputs": [],
   "source": [
    "res = res.reset_index().rename(columns={'index': 'uuid'})"
   ]
  },
  {
   "cell_type": "code",
   "execution_count": null,
   "metadata": {},
   "outputs": [],
   "source": [
    "result = vac.merge(res, how='cross')"
   ]
  },
  {
   "cell_type": "code",
   "execution_count": null,
   "metadata": {},
   "outputs": [],
   "source": [
    "def check_experience(row):\n",
    "    required_experience = row['experience']\n",
    "    actual_experience = row['exp_days']\n",
    "    return int(actual_experience) >= required_experience\n",
    "\n",
    "result['satisfies_experience'] = result.apply(check_experience, axis=1)"
   ]
  },
  {
   "cell_type": "code",
   "execution_count": null,
   "metadata": {},
   "outputs": [],
   "source": [
    "vacancy_texts = [' '.join(words) for words in vac['professional_roles']]\n",
    "vectorizer = TfidfVectorizer()\n",
    "tfidf_matrix = vectorizer.fit_transform(vacancy_texts)\n",
    "tfidf_feature_matrix = tfidf_matrix.toarray()\n",
    "feature_names = vectorizer.get_feature_names_out()\n",
    "resume_texts = [' '.join(words) for words in res['specialization_names'].fillna('')]\n",
    "tfidf_matrix_resume = vectorizer.transform(resume_texts)\n",
    "tfidf_feature_matrix_resume = tfidf_matrix_resume.toarray()\n",
    "result_df = 0\n",
    "cosine_similarities = cosine_similarity(tfidf_feature_matrix, tfidf_feature_matrix_resume)\n",
    "result['cosine_similarity_prof'] = pd.DataFrame({'cosine_similarity_prof': cosine_similarities.flatten()})"
   ]
  },
  {
   "cell_type": "code",
   "execution_count": null,
   "metadata": {},
   "outputs": [],
   "source": [
    "vacancy_texts = [' '.join(words) for words in vac['description']]\n",
    "vectorizer = TfidfVectorizer()\n",
    "tfidf_matrix = vectorizer.fit_transform(vacancy_texts)\n",
    "tfidf_feature_matrix = tfidf_matrix.toarray()\n",
    "feature_names = vectorizer.get_feature_names_out()\n",
    "resume_texts = [' '.join(words) for words in res['skills'].fillna('')]\n",
    "tfidf_matrix_resume = vectorizer.transform(resume_texts)\n",
    "tfidf_feature_matrix_resume = tfidf_matrix_resume.toarray()\n",
    "cosine_similarities = cosine_similarity(tfidf_feature_matrix, tfidf_feature_matrix_resume)\n",
    "result['cosine_similarity_desc'] = pd.DataFrame({'cosine_similarity_desc': cosine_similarities.flatten()})"
   ]
  },
  {
   "cell_type": "code",
   "execution_count": null,
   "metadata": {},
   "outputs": [],
   "source": [
    "def count_matching_languages(row):\n",
    "    if row['language'] == 0 or row['languages']==0:\n",
    "        return 0\n",
    "    lang1 = set(row['language'].split(', '))\n",
    "    lang2 = set(row['languages'].split(', '))\n",
    "    \n",
    "    # Подсчитываем количество совпадающих элементов (языков с уровнями)\n",
    "    intersection_count = len(lang1.intersection(lang2))\n",
    "    total_unique_languages = len(lang1.union(lang2))\n",
    "    \n",
    "    if total_unique_languages == 0:\n",
    "        return 0.001\n",
    "    else:\n",
    "        return intersection_count / total_unique_languages\n",
    "\n",
    "result['match_ratio'] = result.apply(count_matching_languages, axis=1)"
   ]
  },
  {
   "cell_type": "code",
   "execution_count": null,
   "metadata": {},
   "outputs": [],
   "source": [
    "## Игрушечная разметка"
   ]
  },
  {
   "cell_type": "code",
   "execution_count": null,
   "metadata": {},
   "outputs": [],
   "source": [
    "import random\n",
    "result['map'] =  result['cosine_similarity_prof'] * result['cosine_similarity_desc'] * result['match_ratio']\n",
    "result['rank'] = result['map'].rank(method='max', ascending=False).astype(int)\n",
    "result['markup1'] = np.where(result['rank'] <= 20, 1, 0)\n",
    "m = result['map'].mean()\n",
    "result['markup'] = ((result['map'] >= m) & (result['satisfies_experience'])).astype(int)\n",
    "result['new_markup'] = result['markup'] * result['markup1'] "
   ]
  },
  {
   "cell_type": "markdown",
   "metadata": {
    "id": "H_pKKTkHz-Bm"
   },
   "source": [
    "## Обучаем модели"
   ]
  },
  {
   "cell_type": "code",
   "execution_count": null,
   "metadata": {},
   "outputs": [],
   "source": [
    "res_for_test = pd.get_dummies(res, columns=['education_level'], prefix='edu')"
   ]
  },
  {
   "cell_type": "code",
   "execution_count": null,
   "metadata": {},
   "outputs": [],
   "source": [
    "res_for_test = result[['id', 'accept_kids', 'uuid', 'gender', 'education_level', 'age', 'exp_days', 'count_education', 'satisfies_experience', 'cosine_similarity_prof', 'cosine_similarity_desc', 'match_ratio', 'new_markup']]"
   ]
  },
  {
   "cell_type": "code",
   "execution_count": null,
   "metadata": {},
   "outputs": [],
   "source": [
    "res_for_test['gender'] = res_for_test['gender'].map({'Male': 0, 'Female': 1})\n",
    "res_for_test.gender.unique()"
   ]
  },
  {
   "cell_type": "code",
   "execution_count": null,
   "metadata": {},
   "outputs": [],
   "source": [
    "res_encoded = pd.get_dummies(res_for_test, columns=['education_level'], prefix='edu')\n",
    "res_for_test = pd.concat([res_for_test, res_encoded.drop(columns='new_markup')], axis=1)"
   ]
  },
  {
   "cell_type": "code",
   "execution_count": null,
   "metadata": {},
   "outputs": [],
   "source": [
    "res_for_test = res_for_test.drop(columns='education_level')"
   ]
  },
  {
   "cell_type": "code",
   "execution_count": null,
   "metadata": {},
   "outputs": [],
   "source": [
    "res_for_test.fillna(101, inplace=True)"
   ]
  },
  {
   "cell_type": "code",
   "execution_count": null,
   "metadata": {
    "id": "mxi7qwq1ULP2"
   },
   "outputs": [],
   "source": [
    "X_train, X_test, y_train, y_test = train_test_split(res_for_test.drop(columns='new_markup'), res_for_test['new_markup'], test_size = 0.4,random_state=42) "
   ]
  },
  {
   "cell_type": "code",
   "execution_count": null,
   "metadata": {
    "colab": {
     "base_uri": "https://localhost:8080/"
    },
    "id": "YBV2Cl4vZueR",
    "outputId": "777ce169-dc94-462b-840e-f8dfb8f1bd7a"
   },
   "outputs": [],
   "source": [
    "model = RandomForestClassifier(n_estimators=100, class_weight='balanced', random_state=42)\n",
    "model.fit(X_train, y_train)\n",
    "predictions = model.predict(X_test)\n",
    "\n",
    "accuracy = accuracy_score(y_test, predictions)\n",
    "print(f\"Accuracy: {accuracy}\")"
   ]
  },
  {
   "cell_type": "code",
   "execution_count": null,
   "metadata": {
    "colab": {
     "base_uri": "https://localhost:8080/"
    },
    "id": "MnonEeMgQw-w",
    "outputId": "d2589940-dcc9-46c0-d0e1-99a1ac37494c"
   },
   "outputs": [],
   "source": [
    "model = GradientBoostingClassifier(learning_rate=0.1, n_estimators=100, random_state=42)\n",
    "model.fit(X_train, y_train)\n",
    "predictions = model.predict(X_test)\n",
    "\n",
    "accuracy = accuracy_score(y_test, predictions)\n",
    "print(f\"Accuracy: {accuracy}\")"
   ]
  },
  {
   "cell_type": "code",
   "execution_count": null,
   "metadata": {
    "colab": {
     "base_uri": "https://localhost:8080/"
    },
    "id": "SVecW1GZRavy",
    "outputId": "0ec35ee6-4dd1-4fba-bd9e-59e050a07bb4"
   },
   "outputs": [],
   "source": [
    "model_catboost = CatBoostClassifier(iterations=500, depth=5, learning_rate=0.05, loss_function='Logloss', random_state=42)\n",
    "model_catboost.fit(X_train, y_train)\n",
    "predictions_catboost = model_catboost.predict(X_test)\n",
    "\n",
    "# качество\n",
    "accuracy_catboost = accuracy_score(y_test, predictions_catboost)\n",
    "print(f\"Accuracy of CatBoost: {accuracy_catboost}\")"
   ]
  },
  {
   "cell_type": "code",
   "execution_count": null,
   "metadata": {
    "colab": {
     "base_uri": "https://localhost:8080/"
    },
    "id": "ECuEtMbtRGZJ",
    "outputId": "cd90dce6-e156-44ea-d8fd-2c68398683ee"
   },
   "outputs": [],
   "source": [
    "model1 = GradientBoostingClassifier(learning_rate=0.05, n_estimators=100, random_state=42)\n",
    "model2 = RandomForestClassifier(n_estimators=100, class_weight='balanced', random_state=42)\n",
    "model3 = LogisticRegression(random_state=42)\n",
    "model_catboost_2 = CatBoostClassifier(iterations=100, depth=5, learning_rate=0.1, loss_function='Logloss', random_state=42)\n",
    "\n",
    "ensemble_model = VotingClassifier(estimators=[\n",
    "    ('gb', model1),\n",
    "    ('rf', model2),\n",
    "    ('lr', model3),\n",
    "    ('catboost', model_catboost_2)\n",
    "], voting='hard')\n",
    "\n",
    "ensemble_model.fit(X_train, y_train)\n",
    "predictions = ensemble_model.predict(X_test)\n",
    "\n",
    "accuracy = accuracy_score(y_test, predictions)\n",
    "print(f\"Accuracy of the ensemble: {accuracy}\")"
   ]
  },
  {
   "cell_type": "markdown",
   "metadata": {
    "id": "MDKj_bAQ1OpT"
   },
   "source": [
    "## Используем модель"
   ]
  },
  {
   "cell_type": "code",
   "execution_count": null,
   "metadata": {
    "id": "6eRijLrzwp-t"
   },
   "outputs": [],
   "source": [
    "# probabilities_catboost = model_catboost.predict_proba(merged_result_df)\n",
    "# threshold = 0.23\n",
    "# predictions_catboost_class_0 = (probabilities_catboost[:, 0] > threshold).astype(int)\n",
    "# merged_result_df['prediction_class_0'] = predictions_catboost_class_0\n",
    "# merged_result_df['probability_class_0'] = probabilities_catboost[:, 0]\n",
    "# merged_result_df['uuid'] = id_column\n",
    "# sorted_df = merged_result_df.sort_values(by='probability_class_0', ascending=False)\n",
    "# sorted_df"
   ]
  },
  {
   "cell_type": "markdown",
   "metadata": {},
   "source": [
    "ранжирование по count_education, education_level, age, aria"
   ]
  },
  {
   "cell_type": "raw",
   "metadata": {
    "id": "CAe2RnGG1VzC"
   },
   "source": [
    "Все в строке prediction_class_0 = 1 -> Значит резюме прошло"
   ]
  }
 ],
 "metadata": {
  "colab": {
   "provenance": []
  },
  "kernelspec": {
   "display_name": "Python 3 (ipykernel)",
   "language": "python",
   "name": "python3"
  },
  "language_info": {
   "codemirror_mode": {
    "name": "ipython",
    "version": 3
   },
   "file_extension": ".py",
   "mimetype": "text/x-python",
   "name": "python",
   "nbconvert_exporter": "python",
   "pygments_lexer": "ipython3",
   "version": "3.10.9"
  }
 },
 "nbformat": 4,
 "nbformat_minor": 4
}
