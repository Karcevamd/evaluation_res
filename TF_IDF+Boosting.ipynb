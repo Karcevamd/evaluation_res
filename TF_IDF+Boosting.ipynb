{
 "cells": [
  {
   "cell_type": "markdown",
   "metadata": {
    "id": "cwnPSV-01u49"
   },
   "source": [
    "# Загрузка данных"
   ]
  },
  {
   "cell_type": "code",
   "execution_count": 1,
   "metadata": {
    "id": "JpvwiCxgtnBE"
   },
   "outputs": [],
   "source": [
    "import pandas as pd\n",
    "import ast\n",
    "import numpy as np\n",
    "from datetime import datetime\n",
    "from sklearn.feature_extraction.text import TfidfVectorizer\n",
    "from sklearn.metrics.pairwise import cosine_similarity\n",
    "from sklearn.ensemble import GradientBoostingClassifier, RandomForestClassifier, VotingClassifier\n",
    "from sklearn.linear_model import LogisticRegression\n",
    "from sklearn.model_selection import train_test_split\n",
    "from catboost import CatBoostClassifier\n",
    "from sklearn.metrics import accuracy_score, classification_report, confusion_matrix"
   ]
  },
  {
   "cell_type": "code",
   "execution_count": 2,
   "metadata": {},
   "outputs": [
    {
     "name": "stdout",
     "output_type": "stream",
     "text": [
      "Requirement already satisfied: CatBoost in c:\\users\\mashk\\appdata\\local\\programs\\python\\python310\\lib\\site-packages (1.2.2)\n",
      "Requirement already satisfied: graphviz in c:\\users\\mashk\\appdata\\local\\programs\\python\\python310\\lib\\site-packages (from CatBoost) (0.20.1)\n",
      "Requirement already satisfied: matplotlib in c:\\users\\mashk\\appdata\\local\\programs\\python\\python310\\lib\\site-packages (from CatBoost) (3.6.2)\n",
      "Requirement already satisfied: numpy>=1.16.0 in c:\\users\\mashk\\appdata\\local\\programs\\python\\python310\\lib\\site-packages (from CatBoost) (1.24.4)\n",
      "Requirement already satisfied: pandas>=0.24 in c:\\users\\mashk\\appdata\\local\\programs\\python\\python310\\lib\\site-packages (from CatBoost) (2.0.3)\n",
      "Requirement already satisfied: scipy in c:\\users\\mashk\\appdata\\local\\programs\\python\\python310\\lib\\site-packages (from CatBoost) (1.8.0)\n",
      "Requirement already satisfied: plotly in c:\\users\\mashk\\appdata\\local\\programs\\python\\python310\\lib\\site-packages (from CatBoost) (5.18.0)\n",
      "Requirement already satisfied: six in c:\\users\\mashk\\appdata\\local\\programs\\python\\python310\\lib\\site-packages (from CatBoost) (1.16.0)\n",
      "Requirement already satisfied: python-dateutil>=2.8.2 in c:\\users\\mashk\\appdata\\local\\programs\\python\\python310\\lib\\site-packages (from pandas>=0.24->CatBoost) (2.8.2)\n",
      "Requirement already satisfied: pytz>=2020.1 in c:\\users\\mashk\\appdata\\local\\programs\\python\\python310\\lib\\site-packages (from pandas>=0.24->CatBoost) (2023.3.post1)\n",
      "Requirement already satisfied: tzdata>=2022.1 in c:\\users\\mashk\\appdata\\local\\programs\\python\\python310\\lib\\site-packages (from pandas>=0.24->CatBoost) (2023.3)\n",
      "Requirement already satisfied: contourpy>=1.0.1 in c:\\users\\mashk\\appdata\\local\\programs\\python\\python310\\lib\\site-packages (from matplotlib->CatBoost) (1.1.1)\n",
      "Requirement already satisfied: cycler>=0.10 in c:\\users\\mashk\\appdata\\local\\programs\\python\\python310\\lib\\site-packages (from matplotlib->CatBoost) (0.12.1)\n",
      "Requirement already satisfied: fonttools>=4.22.0 in c:\\users\\mashk\\appdata\\local\\programs\\python\\python310\\lib\\site-packages (from matplotlib->CatBoost) (4.43.1)\n",
      "Requirement already satisfied: kiwisolver>=1.0.1 in c:\\users\\mashk\\appdata\\local\\programs\\python\\python310\\lib\\site-packages (from matplotlib->CatBoost) (1.4.5)\n",
      "Requirement already satisfied: packaging>=20.0 in c:\\users\\mashk\\appdata\\local\\programs\\python\\python310\\lib\\site-packages (from matplotlib->CatBoost) (23.2)\n",
      "Requirement already satisfied: pillow>=6.2.0 in c:\\users\\mashk\\appdata\\local\\programs\\python\\python310\\lib\\site-packages (from matplotlib->CatBoost) (10.0.1)\n",
      "Requirement already satisfied: pyparsing>=2.2.1 in c:\\users\\mashk\\appdata\\local\\programs\\python\\python310\\lib\\site-packages (from matplotlib->CatBoost) (3.1.1)\n",
      "Requirement already satisfied: tenacity>=6.2.0 in c:\\users\\mashk\\appdata\\local\\programs\\python\\python310\\lib\\site-packages (from plotly->CatBoost) (8.2.3)\n"
     ]
    },
    {
     "name": "stderr",
     "output_type": "stream",
     "text": [
      "\n",
      "[notice] A new release of pip is available: 23.3.1 -> 24.0\n",
      "[notice] To update, run: python.exe -m pip install --upgrade pip\n"
     ]
    }
   ],
   "source": [
    "!pip install CatBoost"
   ]
  },
  {
   "cell_type": "code",
   "execution_count": 3,
   "metadata": {
    "colab": {
     "base_uri": "https://localhost:8080/"
    },
    "id": "V02fY9g0vvOa",
    "outputId": "c6061c22-9162-4b12-dd78-4b5407a8009f"
   },
   "outputs": [],
   "source": [
    "vac = pd.read_csv('vacancy.csv')\n",
    "res = pd.read_csv('resume.csv')\n",
    "res = res.drop(columns = 'salary_currency')\n",
    "vac = vac[['id', 'experience', 'accept_kids', 'area', 'name', 'description', 'professional_roles', 'key_skills', 'languages']]"
   ]
  },
  {
   "cell_type": "markdown",
   "metadata": {},
   "source": [
    "## Обработка резюме"
   ]
  },
  {
   "cell_type": "code",
   "execution_count": 4,
   "metadata": {},
   "outputs": [],
   "source": [
    "def year_ex(i):\n",
    "    if 'от' in i.lower():\n",
    "        str = i.lower().split()\n",
    "        a = int(str[1])\n",
    "    elif 'более' in i.lower():\n",
    "        str = i.lower().split()\n",
    "        a = int(str[1])\n",
    "    else:\n",
    "        a = 0\n",
    "    return a\n",
    "vac['experience'] = vac['experience'].apply(year_ex)"
   ]
  },
  {
   "cell_type": "code",
   "execution_count": 5,
   "metadata": {},
   "outputs": [],
   "source": [
    "def calculate_age(birthdate):\n",
    "    today = datetime.today()\n",
    "    age = today.year - birthdate.year - ((today.month, today.day) < (birthdate.month, birthdate.day))\n",
    "    return age\n",
    "\n",
    "res['birth_date'] = pd.to_datetime(res['birth_date'])\n",
    "res['age'] = res['birth_date'].apply(calculate_age)"
   ]
  },
  {
   "cell_type": "code",
   "execution_count": 6,
   "metadata": {},
   "outputs": [],
   "source": [
    "replace_dict = {\n",
    "    'Higher education (bachelor)': 'Высшее образование (Бакалавр)',\n",
    "    'Higher education (master)': 'Высшее образование (Магистр)',\n",
    "    'Higher education': 'Высшее образование',\n",
    "    'Higher education (Doctor of Science)': 'Высшее образование (Доктор наук)',\n",
    "    'Incomplete higher education': 'Неоконченное высшее образование',\n",
    "    'Secondary special education': 'Среднее специальное образование',\n",
    "    'Education': 'Образование'\n",
    "}\n",
    "res['education_level'] = res['education_level'].replace(replace_dict)"
   ]
  },
  {
   "cell_type": "code",
   "execution_count": 7,
   "metadata": {},
   "outputs": [],
   "source": [
    "def dicts_in_string(input_string):\n",
    "    data = ast.literal_eval(input_string)\n",
    "    text = ''\n",
    "    day = 0\n",
    "    for i in data:\n",
    "        if i['end'] is None:\n",
    "            i['end'] = datetime.today().strftime('%d-%m-%Y')\n",
    "        day += (datetime.strptime(i['end'], \"%d-%m-%Y\")-datetime.strptime(i['start'], \"%d-%m-%Y\")).days\n",
    "        text += i['description'].replace(\"\\n\", \"\").replace(\"\\r\", \"\").replace(\"●\", \"\")+'. '\n",
    "    years = day/365\n",
    "    return  years, text\n",
    "res['exp_days'], res['exp_text'] = zip(*res['experience'].apply(dicts_in_string))"
   ]
  },
  {
   "cell_type": "code",
   "execution_count": 8,
   "metadata": {},
   "outputs": [],
   "source": [
    "def merge_unique_elements(row):\n",
    "    return np.unique([row['specialization_names'], row['title']])\n",
    "\n",
    "res['specialization_names'] = res.apply(merge_unique_elements, axis=1)"
   ]
  },
  {
   "cell_type": "code",
   "execution_count": 9,
   "metadata": {},
   "outputs": [],
   "source": [
    "def dicts_in_lang(input_string):\n",
    "    data = ast.literal_eval(input_string)\n",
    "    text = ''\n",
    "    day = 0\n",
    "    if len(data) == 0:\n",
    "        return 0\n",
    "    for i in data:\n",
    "        text += i['name'] + ' ' + i['level'] +', '\n",
    "    return text\n",
    "res['language'] = res['language'].apply(dicts_in_lang)"
   ]
  },
  {
   "cell_type": "code",
   "execution_count": 10,
   "metadata": {},
   "outputs": [],
   "source": [
    "def merge_unique_elements2(row):\n",
    "    text1, text2 = '', ''\n",
    "    if row['skills'] is not np.NaN:\n",
    "        text1 = row['skills'].replace(\"\\n\", \"\").replace(\"\\r\", \"\")\n",
    "    if row['exp_text'] is not np.NaN:\n",
    "        text2 = row['exp_text'].replace(\"\\n\", \"\").replace(\"\\r\", \"\")\n",
    "    return text1 + text2\n",
    "\n",
    "res['skills'] = res.apply(merge_unique_elements2, axis=1)"
   ]
  },
  {
   "cell_type": "code",
   "execution_count": 11,
   "metadata": {},
   "outputs": [],
   "source": [
    "res = res.drop(columns=['title', 'skill_set', 'exp_text', 'salary_amount', 'birth_date', 'experience'])"
   ]
  },
  {
   "cell_type": "markdown",
   "metadata": {},
   "source": [
    "## Обработка вакансии"
   ]
  },
  {
   "cell_type": "code",
   "execution_count": 12,
   "metadata": {},
   "outputs": [],
   "source": [
    "def merge_unique_elements_vac(row):\n",
    "    return np.unique([*ast.literal_eval(row['professional_roles']), row['name']])\n",
    "\n",
    "vac['professional_roles'] = vac.apply(merge_unique_elements_vac, axis=1)"
   ]
  },
  {
   "cell_type": "code",
   "execution_count": 13,
   "metadata": {},
   "outputs": [],
   "source": [
    "def merge_unique_elements2(row):\n",
    "    text1, text2 = '', ''\n",
    "    if row['description'] is not np.NaN:\n",
    "        text1 = row['description'].replace(\"\\n\", \"\").replace(\"\\r\", \"\")\n",
    "    if row['key_skills'] is not np.NaN:\n",
    "        text2 = ' '.join(row['key_skills'])\n",
    "    return text1 + text2\n",
    "vac['description'] = vac.apply(merge_unique_elements2, axis=1)"
   ]
  },
  {
   "cell_type": "code",
   "execution_count": 14,
   "metadata": {},
   "outputs": [],
   "source": [
    "def dicts_in_lang_vac(input_string):\n",
    "    data = ast.literal_eval(input_string)\n",
    "    text = ''\n",
    "    day = 0\n",
    "    if len(data) == 0:\n",
    "        return 0\n",
    "    for i in data:\n",
    "        text += i['name'] + ' ' + i['level']['name'] +', '\n",
    "    return text\n",
    "vac['languages'] = vac['languages'].apply(dicts_in_lang_vac)"
   ]
  },
  {
   "cell_type": "code",
   "execution_count": 15,
   "metadata": {},
   "outputs": [],
   "source": [
    "vac = vac.drop(columns=['name', 'key_skills'])"
   ]
  },
  {
   "cell_type": "markdown",
   "metadata": {
    "id": "IWdyI6u8tnBK"
   },
   "source": [
    "## Очистка описания вакансий"
   ]
  },
  {
   "cell_type": "code",
   "execution_count": 16,
   "metadata": {
    "colab": {
     "base_uri": "https://localhost:8080/"
    },
    "id": "4eWgPnjftnBM",
    "outputId": "101bc337-7c5d-4fdb-db2d-579935ebb842"
   },
   "outputs": [
    {
     "name": "stderr",
     "output_type": "stream",
     "text": [
      "[nltk_data] Downloading package stopwords to\n",
      "[nltk_data]     C:\\Users\\mashk\\AppData\\Roaming\\nltk_data...\n",
      "[nltk_data]   Package stopwords is already up-to-date!\n"
     ]
    }
   ],
   "source": [
    "import re\n",
    "import nltk\n",
    "import pymorphy2\n",
    "from nltk.corpus import stopwords\n",
    "from nltk.tokenize import WhitespaceTokenizer\n",
    "\n",
    "nltk.download('stopwords')\n",
    "\n",
    "stop_words_ru = set(stopwords.words('russian'))\n",
    "stop_words_en = set(stopwords.words('english'))\n",
    "stop_words = stop_words_ru.union(stop_words_en)\n",
    "\n",
    "morph = pymorphy2.MorphAnalyzer()\n",
    "\n",
    "def clean_text(text):\n",
    "    if not isinstance(text, str):\n",
    "        return text\n",
    "    text = re.sub(r\"<.*?>\", \" \", text)\n",
    "    text = re.sub(r\" +\", \" \", text)\n",
    "    text = re.sub(r\"[^\\w\\s]\", \" \", text)\n",
    "    text = re.sub(r'(:\\w+:)', '', text)\n",
    "    tokens = WhitespaceTokenizer().tokenize(text)\n",
    "    tokens = [token.lower() for token in tokens if token.lower() not in stop_words]\n",
    "    tokens = [morph.parse(token)[0].normal_form for token in tokens]\n",
    "\n",
    "    return tokens\n"
   ]
  },
  {
   "cell_type": "code",
   "execution_count": 17,
   "metadata": {
    "id": "PfvJv4NltnBN"
   },
   "outputs": [],
   "source": [
    "res['skills'] = res['skills'].apply(lambda x: clean_text(x))"
   ]
  },
  {
   "cell_type": "code",
   "execution_count": 18,
   "metadata": {
    "id": "2MdC26gGMQDI"
   },
   "outputs": [],
   "source": [
    "vac['description'] = vac['description'].apply(lambda x: clean_text(x))"
   ]
  },
  {
   "cell_type": "markdown",
   "metadata": {
    "id": "-4ANB6Sozyix"
   },
   "source": [
    "## Дополнительные обработка"
   ]
  },
  {
   "cell_type": "code",
   "execution_count": 19,
   "metadata": {},
   "outputs": [],
   "source": [
    "def count_dicts_in_string(input_string):\n",
    "    data = ast.literal_eval(input_string)\n",
    "    count = len(data)\n",
    "    return count"
   ]
  },
  {
   "cell_type": "code",
   "execution_count": 20,
   "metadata": {},
   "outputs": [],
   "source": [
    "res['count_education'] = res['education'].apply(count_dicts_in_string)"
   ]
  },
  {
   "cell_type": "markdown",
   "metadata": {},
   "source": [
    "## Перевод всех текстовых параметров в числа"
   ]
  },
  {
   "cell_type": "code",
   "execution_count": 21,
   "metadata": {},
   "outputs": [],
   "source": [
    "res = res.reset_index().rename(columns={'index': 'uuid'})"
   ]
  },
  {
   "cell_type": "code",
   "execution_count": 22,
   "metadata": {},
   "outputs": [],
   "source": [
    "result = vac.merge(res, how='cross')"
   ]
  },
  {
   "cell_type": "code",
   "execution_count": 23,
   "metadata": {},
   "outputs": [],
   "source": [
    "def check_experience(row):\n",
    "    required_experience = row['experience']\n",
    "    actual_experience = row['exp_days']\n",
    "    return int(actual_experience) >= required_experience\n",
    "\n",
    "result['satisfies_experience'] = result.apply(check_experience, axis=1)"
   ]
  },
  {
   "cell_type": "code",
   "execution_count": 24,
   "metadata": {},
   "outputs": [],
   "source": [
    "vacancy_texts = [' '.join(words) for words in vac['professional_roles']]\n",
    "vectorizer = TfidfVectorizer()\n",
    "tfidf_matrix = vectorizer.fit_transform(vacancy_texts)\n",
    "tfidf_feature_matrix = tfidf_matrix.toarray()\n",
    "feature_names = vectorizer.get_feature_names_out()\n",
    "resume_texts = [' '.join(words) for words in res['specialization_names'].fillna('')]\n",
    "tfidf_matrix_resume = vectorizer.transform(resume_texts)\n",
    "tfidf_feature_matrix_resume = tfidf_matrix_resume.toarray()\n",
    "result_df = 0\n",
    "cosine_similarities = cosine_similarity(tfidf_feature_matrix, tfidf_feature_matrix_resume)\n",
    "result['cosine_similarity_prof'] = pd.DataFrame({'cosine_similarity_prof': cosine_similarities.flatten()})"
   ]
  },
  {
   "cell_type": "code",
   "execution_count": 25,
   "metadata": {},
   "outputs": [],
   "source": [
    "vacancy_texts = [' '.join(words) for words in vac['description']]\n",
    "vectorizer = TfidfVectorizer()\n",
    "tfidf_matrix = vectorizer.fit_transform(vacancy_texts)\n",
    "tfidf_feature_matrix = tfidf_matrix.toarray()\n",
    "feature_names = vectorizer.get_feature_names_out()\n",
    "resume_texts = [' '.join(words) for words in res['skills'].fillna('')]\n",
    "tfidf_matrix_resume = vectorizer.transform(resume_texts)\n",
    "tfidf_feature_matrix_resume = tfidf_matrix_resume.toarray()\n",
    "cosine_similarities = cosine_similarity(tfidf_feature_matrix, tfidf_feature_matrix_resume)\n",
    "result['cosine_similarity_desc'] = pd.DataFrame({'cosine_similarity_desc': cosine_similarities.flatten()})"
   ]
  },
  {
   "cell_type": "code",
   "execution_count": 26,
   "metadata": {},
   "outputs": [],
   "source": [
    "def count_matching_languages(row):\n",
    "    if row['language'] == 0 or row['languages']==0:\n",
    "        return 0\n",
    "    lang1 = set(row['language'].split(', '))\n",
    "    lang2 = set(row['languages'].split(', '))\n",
    "    \n",
    "    # Подсчитываем количество совпадающих элементов (языков с уровнями)\n",
    "    intersection_count = len(lang1.intersection(lang2))\n",
    "    total_unique_languages = len(lang1.union(lang2))\n",
    "    \n",
    "    if total_unique_languages == 0:\n",
    "        return 0.001\n",
    "    else:\n",
    "        return intersection_count / total_unique_languages\n",
    "\n",
    "result['match_ratio'] = result.apply(count_matching_languages, axis=1)"
   ]
  },
  {
   "cell_type": "code",
   "execution_count": 75,
   "metadata": {},
   "outputs": [],
   "source": [
    "## Игрушечная разметка"
   ]
  },
  {
   "cell_type": "code",
   "execution_count": 27,
   "metadata": {},
   "outputs": [],
   "source": [
    "import random\n",
    "result['map'] =  result['cosine_similarity_prof'] * result['cosine_similarity_desc'] * result['match_ratio']\n",
    "result['rank'] = result['map'].rank(method='max', ascending=False).astype(int)\n",
    "result['markup1'] = np.where(result['rank'] <= 20, 1, 0)\n",
    "m = result['map'].mean()\n",
    "result['markup'] = ((result['map'] >= m) & (result['satisfies_experience'])).astype(int)\n",
    "result['new_markup'] = result['markup'] * result['markup1'] "
   ]
  },
  {
   "cell_type": "markdown",
   "metadata": {
    "id": "H_pKKTkHz-Bm"
   },
   "source": [
    "## Обучаем модели"
   ]
  },
  {
   "cell_type": "code",
   "execution_count": 63,
   "metadata": {},
   "outputs": [],
   "source": [
    "res_for_test = result[['id', 'accept_kids', 'uuid', 'gender', 'education_level', 'age', 'exp_days', 'count_education', 'satisfies_experience', 'cosine_similarity_prof', 'cosine_similarity_desc', 'match_ratio', 'new_markup']]"
   ]
  },
  {
   "cell_type": "code",
   "execution_count": 64,
   "metadata": {},
   "outputs": [],
   "source": [
    "res_for_test = pd.get_dummies(res_for_test, columns=['education_level'], prefix='edu')"
   ]
  },
  {
   "cell_type": "code",
   "execution_count": 65,
   "metadata": {},
   "outputs": [
    {
     "data": {
      "text/plain": [
       "array([nan,  0.,  1.])"
      ]
     },
     "execution_count": 65,
     "metadata": {},
     "output_type": "execute_result"
    }
   ],
   "source": [
    "res_for_test['gender'] = res_for_test['gender'].map({'Male': 0, 'Female': 1})\n",
    "res_for_test.gender.unique()"
   ]
  },
  {
   "cell_type": "code",
   "execution_count": 69,
   "metadata": {},
   "outputs": [],
   "source": [
    "res_for_test.fillna(101, inplace=True)"
   ]
  },
  {
   "cell_type": "code",
   "execution_count": 70,
   "metadata": {
    "id": "mxi7qwq1ULP2"
   },
   "outputs": [],
   "source": [
    "X_train, X_test, y_train, y_test = train_test_split(res_for_test.drop(columns='new_markup'), res_for_test['new_markup'], test_size = 0.4,random_state=42) "
   ]
  },
  {
   "cell_type": "code",
   "execution_count": 71,
   "metadata": {
    "colab": {
     "base_uri": "https://localhost:8080/"
    },
    "id": "YBV2Cl4vZueR",
    "outputId": "777ce169-dc94-462b-840e-f8dfb8f1bd7a"
   },
   "outputs": [
    {
     "name": "stdout",
     "output_type": "stream",
     "text": [
      "Accuracy: 0.9999965606264819\n"
     ]
    }
   ],
   "source": [
    "model = RandomForestClassifier(n_estimators=100, class_weight='balanced', random_state=42)\n",
    "model.fit(X_train, y_train)\n",
    "predictions = model.predict(X_test)\n",
    "\n",
    "accuracy = accuracy_score(y_test, predictions)\n",
    "print(f\"Accuracy: {accuracy}\")"
   ]
  },
  {
   "cell_type": "code",
   "execution_count": 72,
   "metadata": {
    "colab": {
     "base_uri": "https://localhost:8080/"
    },
    "id": "MnonEeMgQw-w",
    "outputId": "d2589940-dcc9-46c0-d0e1-99a1ac37494c"
   },
   "outputs": [
    {
     "name": "stdout",
     "output_type": "stream",
     "text": [
      "Accuracy: 0.9999961307047921\n"
     ]
    }
   ],
   "source": [
    "model = GradientBoostingClassifier(learning_rate=0.1, n_estimators=100, random_state=42)\n",
    "model.fit(X_train, y_train)\n",
    "predictions = model.predict(X_test)\n",
    "\n",
    "accuracy = accuracy_score(y_test, predictions)\n",
    "print(f\"Accuracy: {accuracy}\")"
   ]
  },
  {
   "cell_type": "code",
   "execution_count": 73,
   "metadata": {
    "colab": {
     "base_uri": "https://localhost:8080/"
    },
    "id": "SVecW1GZRavy",
    "outputId": "0ec35ee6-4dd1-4fba-bd9e-59e050a07bb4"
   },
   "outputs": [
    {
     "name": "stdout",
     "output_type": "stream",
     "text": [
      "0:\tlearn: 0.4571498\ttotal: 453ms\tremaining: 3m 46s\n",
      "1:\tlearn: 0.2960849\ttotal: 983ms\tremaining: 4m 4s\n",
      "2:\tlearn: 0.1881551\ttotal: 1.44s\tremaining: 3m 59s\n",
      "3:\tlearn: 0.1189411\ttotal: 1.93s\tremaining: 3m 58s\n",
      "4:\tlearn: 0.0745351\ttotal: 2.4s\tremaining: 3m 57s\n",
      "5:\tlearn: 0.0476204\ttotal: 2.91s\tremaining: 3m 59s\n",
      "6:\tlearn: 0.0303175\ttotal: 3.46s\tremaining: 4m 3s\n",
      "7:\tlearn: 0.0191223\ttotal: 3.92s\tremaining: 4m 1s\n",
      "8:\tlearn: 0.0123630\ttotal: 4.36s\tremaining: 3m 57s\n",
      "9:\tlearn: 0.0081152\ttotal: 4.83s\tremaining: 3m 56s\n",
      "10:\tlearn: 0.0053948\ttotal: 5.27s\tremaining: 3m 54s\n",
      "11:\tlearn: 0.0036428\ttotal: 5.77s\tremaining: 3m 54s\n",
      "12:\tlearn: 0.0025046\ttotal: 6.24s\tremaining: 3m 53s\n",
      "13:\tlearn: 0.0017507\ttotal: 6.69s\tremaining: 3m 52s\n",
      "14:\tlearn: 0.0012456\ttotal: 7.15s\tremaining: 3m 51s\n",
      "15:\tlearn: 0.0009032\ttotal: 7.61s\tremaining: 3m 50s\n",
      "16:\tlearn: 0.0006665\ttotal: 8.09s\tremaining: 3m 49s\n",
      "17:\tlearn: 0.0005007\ttotal: 8.6s\tremaining: 3m 50s\n",
      "18:\tlearn: 0.0003793\ttotal: 9.07s\tremaining: 3m 49s\n",
      "19:\tlearn: 0.0002922\ttotal: 9.57s\tremaining: 3m 49s\n",
      "20:\tlearn: 0.0002234\ttotal: 10.1s\tremaining: 3m 50s\n",
      "21:\tlearn: 0.0001749\ttotal: 10.6s\tremaining: 3m 50s\n",
      "22:\tlearn: 0.0001388\ttotal: 11.1s\tremaining: 3m 50s\n",
      "23:\tlearn: 0.0001114\ttotal: 11.6s\tremaining: 3m 50s\n",
      "24:\tlearn: 0.0000900\ttotal: 12.2s\tremaining: 3m 51s\n",
      "25:\tlearn: 0.0000734\ttotal: 12.7s\tremaining: 3m 51s\n",
      "26:\tlearn: 0.0000613\ttotal: 13.2s\tremaining: 3m 51s\n",
      "27:\tlearn: 0.0000520\ttotal: 13.7s\tremaining: 3m 51s\n",
      "28:\tlearn: 0.0000446\ttotal: 14.3s\tremaining: 3m 51s\n",
      "29:\tlearn: 0.0000383\ttotal: 14.8s\tremaining: 3m 51s\n",
      "30:\tlearn: 0.0000321\ttotal: 15.3s\tremaining: 3m 51s\n",
      "31:\tlearn: 0.0000280\ttotal: 15.8s\tremaining: 3m 51s\n",
      "32:\tlearn: 0.0000255\ttotal: 16.4s\tremaining: 3m 51s\n",
      "33:\tlearn: 0.0000237\ttotal: 16.9s\tremaining: 3m 51s\n",
      "34:\tlearn: 0.0000212\ttotal: 17.4s\tremaining: 3m 51s\n",
      "35:\tlearn: 0.0000184\ttotal: 17.9s\tremaining: 3m 50s\n",
      "36:\tlearn: 0.0000161\ttotal: 18.5s\tremaining: 3m 51s\n",
      "37:\tlearn: 0.0000149\ttotal: 19.1s\tremaining: 3m 51s\n",
      "38:\tlearn: 0.0000139\ttotal: 19.6s\tremaining: 3m 51s\n",
      "39:\tlearn: 0.0000133\ttotal: 20.1s\tremaining: 3m 51s\n",
      "40:\tlearn: 0.0000128\ttotal: 20.7s\tremaining: 3m 51s\n",
      "41:\tlearn: 0.0000121\ttotal: 21.2s\tremaining: 3m 51s\n",
      "42:\tlearn: 0.0000116\ttotal: 21.7s\tremaining: 3m 50s\n",
      "43:\tlearn: 0.0000112\ttotal: 22.2s\tremaining: 3m 50s\n",
      "44:\tlearn: 0.0000106\ttotal: 22.8s\tremaining: 3m 50s\n",
      "45:\tlearn: 0.0000101\ttotal: 23.3s\tremaining: 3m 49s\n",
      "46:\tlearn: 0.0000098\ttotal: 23.8s\tremaining: 3m 49s\n",
      "47:\tlearn: 0.0000094\ttotal: 24.3s\tremaining: 3m 48s\n",
      "48:\tlearn: 0.0000091\ttotal: 24.8s\tremaining: 3m 48s\n",
      "49:\tlearn: 0.0000089\ttotal: 25.4s\tremaining: 3m 48s\n",
      "50:\tlearn: 0.0000085\ttotal: 25.9s\tremaining: 3m 48s\n",
      "51:\tlearn: 0.0000083\ttotal: 26.5s\tremaining: 3m 47s\n",
      "52:\tlearn: 0.0000080\ttotal: 26.9s\tremaining: 3m 47s\n",
      "53:\tlearn: 0.0000077\ttotal: 27.4s\tremaining: 3m 46s\n",
      "54:\tlearn: 0.0000074\ttotal: 27.9s\tremaining: 3m 46s\n",
      "55:\tlearn: 0.0000071\ttotal: 28.5s\tremaining: 3m 45s\n",
      "56:\tlearn: 0.0000068\ttotal: 28.9s\tremaining: 3m 45s\n",
      "57:\tlearn: 0.0000066\ttotal: 29.5s\tremaining: 3m 44s\n",
      "58:\tlearn: 0.0000063\ttotal: 30s\tremaining: 3m 44s\n",
      "59:\tlearn: 0.0000062\ttotal: 30.5s\tremaining: 3m 43s\n",
      "60:\tlearn: 0.0000060\ttotal: 31s\tremaining: 3m 43s\n",
      "61:\tlearn: 0.0000058\ttotal: 31.5s\tremaining: 3m 42s\n",
      "62:\tlearn: 0.0000056\ttotal: 32.1s\tremaining: 3m 42s\n",
      "63:\tlearn: 0.0000054\ttotal: 32.6s\tremaining: 3m 41s\n",
      "64:\tlearn: 0.0000052\ttotal: 33.1s\tremaining: 3m 41s\n",
      "65:\tlearn: 0.0000051\ttotal: 33.6s\tremaining: 3m 41s\n",
      "66:\tlearn: 0.0000049\ttotal: 34.2s\tremaining: 3m 40s\n",
      "67:\tlearn: 0.0000048\ttotal: 34.7s\tremaining: 3m 40s\n",
      "68:\tlearn: 0.0000047\ttotal: 35.2s\tremaining: 3m 39s\n",
      "69:\tlearn: 0.0000046\ttotal: 35.7s\tremaining: 3m 39s\n",
      "70:\tlearn: 0.0000045\ttotal: 36.1s\tremaining: 3m 38s\n",
      "71:\tlearn: 0.0000044\ttotal: 36.6s\tremaining: 3m 37s\n",
      "72:\tlearn: 0.0000043\ttotal: 37.1s\tremaining: 3m 36s\n",
      "73:\tlearn: 0.0000042\ttotal: 37.5s\tremaining: 3m 36s\n",
      "74:\tlearn: 0.0000041\ttotal: 38s\tremaining: 3m 35s\n",
      "75:\tlearn: 0.0000040\ttotal: 38.4s\tremaining: 3m 34s\n",
      "76:\tlearn: 0.0000039\ttotal: 38.9s\tremaining: 3m 33s\n",
      "77:\tlearn: 0.0000039\ttotal: 39.4s\tremaining: 3m 33s\n",
      "78:\tlearn: 0.0000038\ttotal: 40s\tremaining: 3m 33s\n",
      "79:\tlearn: 0.0000038\ttotal: 40.5s\tremaining: 3m 32s\n",
      "80:\tlearn: 0.0000037\ttotal: 41s\tremaining: 3m 32s\n",
      "81:\tlearn: 0.0000037\ttotal: 41.6s\tremaining: 3m 31s\n",
      "82:\tlearn: 0.0000036\ttotal: 42s\tremaining: 3m 31s\n",
      "83:\tlearn: 0.0000036\ttotal: 42.5s\tremaining: 3m 30s\n",
      "84:\tlearn: 0.0000035\ttotal: 42.9s\tremaining: 3m 29s\n",
      "85:\tlearn: 0.0000035\ttotal: 43.4s\tremaining: 3m 29s\n",
      "86:\tlearn: 0.0000034\ttotal: 44s\tremaining: 3m 28s\n",
      "87:\tlearn: 0.0000034\ttotal: 44.4s\tremaining: 3m 27s\n",
      "88:\tlearn: 0.0000033\ttotal: 44.9s\tremaining: 3m 27s\n",
      "89:\tlearn: 0.0000033\ttotal: 45.4s\tremaining: 3m 26s\n",
      "90:\tlearn: 0.0000032\ttotal: 45.8s\tremaining: 3m 26s\n",
      "91:\tlearn: 0.0000032\ttotal: 46.3s\tremaining: 3m 25s\n",
      "92:\tlearn: 0.0000031\ttotal: 46.8s\tremaining: 3m 24s\n",
      "93:\tlearn: 0.0000031\ttotal: 47.2s\tremaining: 3m 23s\n",
      "94:\tlearn: 0.0000031\ttotal: 47.7s\tremaining: 3m 23s\n",
      "95:\tlearn: 0.0000029\ttotal: 48.1s\tremaining: 3m 22s\n",
      "96:\tlearn: 0.0000029\ttotal: 48.6s\tremaining: 3m 21s\n",
      "97:\tlearn: 0.0000028\ttotal: 49s\tremaining: 3m 21s\n",
      "98:\tlearn: 0.0000028\ttotal: 49.5s\tremaining: 3m 20s\n",
      "99:\tlearn: 0.0000028\ttotal: 50s\tremaining: 3m 20s\n",
      "100:\tlearn: 0.0000027\ttotal: 50.5s\tremaining: 3m 19s\n",
      "101:\tlearn: 0.0000027\ttotal: 51s\tremaining: 3m 18s\n",
      "102:\tlearn: 0.0000027\ttotal: 51.5s\tremaining: 3m 18s\n",
      "103:\tlearn: 0.0000026\ttotal: 51.9s\tremaining: 3m 17s\n",
      "104:\tlearn: 0.0000026\ttotal: 52.4s\tremaining: 3m 17s\n",
      "105:\tlearn: 0.0000025\ttotal: 52.9s\tremaining: 3m 16s\n",
      "106:\tlearn: 0.0000025\ttotal: 53.3s\tremaining: 3m 15s\n",
      "107:\tlearn: 0.0000025\ttotal: 53.8s\tremaining: 3m 15s\n",
      "108:\tlearn: 0.0000024\ttotal: 54.3s\tremaining: 3m 14s\n",
      "109:\tlearn: 0.0000024\ttotal: 54.7s\tremaining: 3m 14s\n",
      "110:\tlearn: 0.0000024\ttotal: 55.2s\tremaining: 3m 13s\n",
      "111:\tlearn: 0.0000023\ttotal: 55.6s\tremaining: 3m 12s\n",
      "112:\tlearn: 0.0000023\ttotal: 56.1s\tremaining: 3m 12s\n",
      "113:\tlearn: 0.0000023\ttotal: 56.6s\tremaining: 3m 11s\n",
      "114:\tlearn: 0.0000023\ttotal: 57s\tremaining: 3m 10s\n",
      "115:\tlearn: 0.0000022\ttotal: 57.5s\tremaining: 3m 10s\n",
      "116:\tlearn: 0.0000022\ttotal: 57.9s\tremaining: 3m 9s\n",
      "117:\tlearn: 0.0000021\ttotal: 58.4s\tremaining: 3m 9s\n",
      "118:\tlearn: 0.0000021\ttotal: 58.9s\tremaining: 3m 8s\n",
      "119:\tlearn: 0.0000021\ttotal: 59.4s\tremaining: 3m 7s\n",
      "120:\tlearn: 0.0000021\ttotal: 59.8s\tremaining: 3m 7s\n",
      "121:\tlearn: 0.0000021\ttotal: 1m\tremaining: 3m 7s\n",
      "122:\tlearn: 0.0000020\ttotal: 1m\tremaining: 3m 6s\n",
      "123:\tlearn: 0.0000020\ttotal: 1m 1s\tremaining: 3m 5s\n",
      "124:\tlearn: 0.0000020\ttotal: 1m 1s\tremaining: 3m 5s\n",
      "125:\tlearn: 0.0000020\ttotal: 1m 2s\tremaining: 3m 4s\n",
      "126:\tlearn: 0.0000019\ttotal: 1m 2s\tremaining: 3m 4s\n",
      "127:\tlearn: 0.0000019\ttotal: 1m 3s\tremaining: 3m 3s\n",
      "128:\tlearn: 0.0000019\ttotal: 1m 3s\tremaining: 3m 2s\n",
      "129:\tlearn: 0.0000019\ttotal: 1m 4s\tremaining: 3m 2s\n",
      "130:\tlearn: 0.0000019\ttotal: 1m 4s\tremaining: 3m 1s\n",
      "131:\tlearn: 0.0000018\ttotal: 1m 5s\tremaining: 3m 1s\n",
      "132:\tlearn: 0.0000018\ttotal: 1m 5s\tremaining: 3m\n",
      "133:\tlearn: 0.0000018\ttotal: 1m 6s\tremaining: 3m\n",
      "134:\tlearn: 0.0000018\ttotal: 1m 6s\tremaining: 3m\n",
      "135:\tlearn: 0.0000018\ttotal: 1m 7s\tremaining: 2m 59s\n",
      "136:\tlearn: 0.0000017\ttotal: 1m 7s\tremaining: 2m 58s\n",
      "137:\tlearn: 0.0000017\ttotal: 1m 7s\tremaining: 2m 58s\n",
      "138:\tlearn: 0.0000017\ttotal: 1m 8s\tremaining: 2m 57s\n",
      "139:\tlearn: 0.0000017\ttotal: 1m 8s\tremaining: 2m 57s\n",
      "140:\tlearn: 0.0000016\ttotal: 1m 9s\tremaining: 2m 56s\n",
      "141:\tlearn: 0.0000016\ttotal: 1m 9s\tremaining: 2m 56s\n",
      "142:\tlearn: 0.0000016\ttotal: 1m 10s\tremaining: 2m 55s\n",
      "143:\tlearn: 0.0000016\ttotal: 1m 10s\tremaining: 2m 55s\n",
      "144:\tlearn: 0.0000016\ttotal: 1m 11s\tremaining: 2m 54s\n",
      "145:\tlearn: 0.0000016\ttotal: 1m 11s\tremaining: 2m 54s\n",
      "146:\tlearn: 0.0000015\ttotal: 1m 12s\tremaining: 2m 53s\n",
      "147:\tlearn: 0.0000015\ttotal: 1m 12s\tremaining: 2m 53s\n",
      "148:\tlearn: 0.0000015\ttotal: 1m 13s\tremaining: 2m 52s\n",
      "149:\tlearn: 0.0000015\ttotal: 1m 13s\tremaining: 2m 52s\n",
      "150:\tlearn: 0.0000015\ttotal: 1m 14s\tremaining: 2m 51s\n",
      "151:\tlearn: 0.0000014\ttotal: 1m 14s\tremaining: 2m 51s\n",
      "152:\tlearn: 0.0000014\ttotal: 1m 15s\tremaining: 2m 50s\n",
      "153:\tlearn: 0.0000014\ttotal: 1m 15s\tremaining: 2m 49s\n",
      "154:\tlearn: 0.0000014\ttotal: 1m 16s\tremaining: 2m 49s\n",
      "155:\tlearn: 0.0000014\ttotal: 1m 16s\tremaining: 2m 48s\n",
      "156:\tlearn: 0.0000014\ttotal: 1m 16s\tremaining: 2m 48s\n",
      "157:\tlearn: 0.0000013\ttotal: 1m 17s\tremaining: 2m 47s\n",
      "158:\tlearn: 0.0000013\ttotal: 1m 17s\tremaining: 2m 47s\n",
      "159:\tlearn: 0.0000013\ttotal: 1m 18s\tremaining: 2m 46s\n",
      "160:\tlearn: 0.0000013\ttotal: 1m 18s\tremaining: 2m 45s\n",
      "161:\tlearn: 0.0000013\ttotal: 1m 19s\tremaining: 2m 45s\n",
      "162:\tlearn: 0.0000012\ttotal: 1m 19s\tremaining: 2m 44s\n",
      "163:\tlearn: 0.0000012\ttotal: 1m 20s\tremaining: 2m 44s\n",
      "164:\tlearn: 0.0000012\ttotal: 1m 20s\tremaining: 2m 43s\n",
      "165:\tlearn: 0.0000012\ttotal: 1m 21s\tremaining: 2m 43s\n",
      "166:\tlearn: 0.0000012\ttotal: 1m 21s\tremaining: 2m 42s\n",
      "167:\tlearn: 0.0000012\ttotal: 1m 22s\tremaining: 2m 42s\n",
      "168:\tlearn: 0.0000011\ttotal: 1m 22s\tremaining: 2m 41s\n",
      "169:\tlearn: 0.0000011\ttotal: 1m 22s\tremaining: 2m 41s\n",
      "170:\tlearn: 0.0000011\ttotal: 1m 23s\tremaining: 2m 40s\n",
      "171:\tlearn: 0.0000011\ttotal: 1m 23s\tremaining: 2m 40s\n",
      "172:\tlearn: 0.0000011\ttotal: 1m 24s\tremaining: 2m 39s\n",
      "173:\tlearn: 0.0000011\ttotal: 1m 24s\tremaining: 2m 39s\n",
      "174:\tlearn: 0.0000011\ttotal: 1m 25s\tremaining: 2m 38s\n",
      "175:\tlearn: 0.0000011\ttotal: 1m 25s\tremaining: 2m 38s\n",
      "176:\tlearn: 0.0000011\ttotal: 1m 26s\tremaining: 2m 37s\n",
      "177:\tlearn: 0.0000010\ttotal: 1m 26s\tremaining: 2m 37s\n",
      "178:\tlearn: 0.0000010\ttotal: 1m 27s\tremaining: 2m 36s\n",
      "179:\tlearn: 0.0000010\ttotal: 1m 27s\tremaining: 2m 35s\n",
      "180:\tlearn: 0.0000010\ttotal: 1m 28s\tremaining: 2m 35s\n",
      "181:\tlearn: 0.0000010\ttotal: 1m 28s\tremaining: 2m 34s\n",
      "182:\tlearn: 0.0000010\ttotal: 1m 29s\tremaining: 2m 34s\n",
      "183:\tlearn: 0.0000010\ttotal: 1m 29s\tremaining: 2m 33s\n",
      "184:\tlearn: 0.0000010\ttotal: 1m 30s\tremaining: 2m 33s\n",
      "185:\tlearn: 0.0000009\ttotal: 1m 30s\tremaining: 2m 32s\n",
      "186:\tlearn: 0.0000009\ttotal: 1m 30s\tremaining: 2m 32s\n",
      "187:\tlearn: 0.0000009\ttotal: 1m 31s\tremaining: 2m 31s\n",
      "188:\tlearn: 0.0000009\ttotal: 1m 31s\tremaining: 2m 31s\n",
      "189:\tlearn: 0.0000009\ttotal: 1m 32s\tremaining: 2m 30s\n",
      "190:\tlearn: 0.0000008\ttotal: 1m 32s\tremaining: 2m 30s\n",
      "191:\tlearn: 0.0000008\ttotal: 1m 33s\tremaining: 2m 29s\n",
      "192:\tlearn: 0.0000008\ttotal: 1m 33s\tremaining: 2m 29s\n",
      "193:\tlearn: 0.0000008\ttotal: 1m 34s\tremaining: 2m 28s\n",
      "194:\tlearn: 0.0000008\ttotal: 1m 34s\tremaining: 2m 28s\n",
      "195:\tlearn: 0.0000008\ttotal: 1m 35s\tremaining: 2m 27s\n",
      "196:\tlearn: 0.0000008\ttotal: 1m 35s\tremaining: 2m 27s\n",
      "197:\tlearn: 0.0000008\ttotal: 1m 36s\tremaining: 2m 26s\n",
      "198:\tlearn: 0.0000008\ttotal: 1m 36s\tremaining: 2m 26s\n",
      "199:\tlearn: 0.0000008\ttotal: 1m 37s\tremaining: 2m 25s\n",
      "200:\tlearn: 0.0000007\ttotal: 1m 37s\tremaining: 2m 25s\n",
      "201:\tlearn: 0.0000007\ttotal: 1m 38s\tremaining: 2m 24s\n",
      "202:\tlearn: 0.0000007\ttotal: 1m 38s\tremaining: 2m 24s\n",
      "203:\tlearn: 0.0000007\ttotal: 1m 38s\tremaining: 2m 23s\n",
      "204:\tlearn: 0.0000007\ttotal: 1m 39s\tremaining: 2m 23s\n",
      "205:\tlearn: 0.0000007\ttotal: 1m 39s\tremaining: 2m 22s\n",
      "206:\tlearn: 0.0000007\ttotal: 1m 40s\tremaining: 2m 21s\n",
      "207:\tlearn: 0.0000007\ttotal: 1m 40s\tremaining: 2m 21s\n",
      "208:\tlearn: 0.0000007\ttotal: 1m 41s\tremaining: 2m 21s\n",
      "209:\tlearn: 0.0000007\ttotal: 1m 41s\tremaining: 2m 20s\n",
      "210:\tlearn: 0.0000006\ttotal: 1m 42s\tremaining: 2m 20s\n",
      "211:\tlearn: 0.0000006\ttotal: 1m 42s\tremaining: 2m 19s\n",
      "212:\tlearn: 0.0000006\ttotal: 1m 43s\tremaining: 2m 19s\n",
      "213:\tlearn: 0.0000006\ttotal: 1m 43s\tremaining: 2m 18s\n",
      "214:\tlearn: 0.0000006\ttotal: 1m 44s\tremaining: 2m 17s\n",
      "215:\tlearn: 0.0000006\ttotal: 1m 44s\tremaining: 2m 17s\n",
      "216:\tlearn: 0.0000006\ttotal: 1m 45s\tremaining: 2m 16s\n",
      "217:\tlearn: 0.0000006\ttotal: 1m 45s\tremaining: 2m 16s\n",
      "218:\tlearn: 0.0000006\ttotal: 1m 45s\tremaining: 2m 15s\n",
      "219:\tlearn: 0.0000006\ttotal: 1m 46s\tremaining: 2m 15s\n",
      "220:\tlearn: 0.0000006\ttotal: 1m 46s\tremaining: 2m 14s\n",
      "221:\tlearn: 0.0000005\ttotal: 1m 47s\tremaining: 2m 14s\n",
      "222:\tlearn: 0.0000005\ttotal: 1m 47s\tremaining: 2m 13s\n",
      "223:\tlearn: 0.0000005\ttotal: 1m 48s\tremaining: 2m 13s\n",
      "224:\tlearn: 0.0000005\ttotal: 1m 48s\tremaining: 2m 12s\n",
      "225:\tlearn: 0.0000005\ttotal: 1m 49s\tremaining: 2m 12s\n",
      "226:\tlearn: 0.0000005\ttotal: 1m 49s\tremaining: 2m 11s\n",
      "227:\tlearn: 0.0000004\ttotal: 1m 50s\tremaining: 2m 11s\n",
      "228:\tlearn: 0.0000004\ttotal: 1m 50s\tremaining: 2m 10s\n",
      "229:\tlearn: 0.0000004\ttotal: 1m 51s\tremaining: 2m 10s\n",
      "230:\tlearn: 0.0000004\ttotal: 1m 51s\tremaining: 2m 9s\n",
      "231:\tlearn: 0.0000004\ttotal: 1m 52s\tremaining: 2m 9s\n",
      "232:\tlearn: 0.0000004\ttotal: 1m 52s\tremaining: 2m 8s\n",
      "233:\tlearn: 0.0000004\ttotal: 1m 53s\tremaining: 2m 8s\n",
      "234:\tlearn: 0.0000004\ttotal: 1m 53s\tremaining: 2m 7s\n",
      "235:\tlearn: 0.0000003\ttotal: 1m 53s\tremaining: 2m 7s\n",
      "236:\tlearn: 0.0000003\ttotal: 1m 54s\tremaining: 2m 6s\n",
      "237:\tlearn: 0.0000003\ttotal: 1m 54s\tremaining: 2m 6s\n",
      "238:\tlearn: 0.0000003\ttotal: 1m 55s\tremaining: 2m 6s\n",
      "239:\tlearn: 0.0000003\ttotal: 1m 55s\tremaining: 2m 5s\n",
      "240:\tlearn: 0.0000003\ttotal: 1m 56s\tremaining: 2m 4s\n",
      "241:\tlearn: 0.0000003\ttotal: 1m 56s\tremaining: 2m 4s\n",
      "242:\tlearn: 0.0000003\ttotal: 1m 57s\tremaining: 2m 3s\n",
      "243:\tlearn: 0.0000003\ttotal: 1m 57s\tremaining: 2m 3s\n",
      "244:\tlearn: 0.0000003\ttotal: 1m 58s\tremaining: 2m 2s\n",
      "245:\tlearn: 0.0000003\ttotal: 1m 58s\tremaining: 2m 2s\n",
      "246:\tlearn: 0.0000003\ttotal: 1m 59s\tremaining: 2m 1s\n",
      "247:\tlearn: 0.0000003\ttotal: 1m 59s\tremaining: 2m 1s\n",
      "248:\tlearn: 0.0000002\ttotal: 2m\tremaining: 2m\n",
      "249:\tlearn: 0.0000002\ttotal: 2m\tremaining: 2m\n",
      "250:\tlearn: 0.0000002\ttotal: 2m\tremaining: 2m\n",
      "251:\tlearn: 0.0000002\ttotal: 2m 1s\tremaining: 1m 59s\n",
      "252:\tlearn: 0.0000002\ttotal: 2m 1s\tremaining: 1m 58s\n",
      "253:\tlearn: 0.0000002\ttotal: 2m 2s\tremaining: 1m 58s\n",
      "254:\tlearn: 0.0000002\ttotal: 2m 2s\tremaining: 1m 58s\n",
      "255:\tlearn: 0.0000002\ttotal: 2m 3s\tremaining: 1m 57s\n",
      "256:\tlearn: 0.0000002\ttotal: 2m 3s\tremaining: 1m 57s\n",
      "257:\tlearn: 0.0000002\ttotal: 2m 4s\tremaining: 1m 56s\n",
      "258:\tlearn: 0.0000002\ttotal: 2m 4s\tremaining: 1m 56s\n",
      "259:\tlearn: 0.0000002\ttotal: 2m 5s\tremaining: 1m 55s\n",
      "260:\tlearn: 0.0000002\ttotal: 2m 5s\tremaining: 1m 55s\n",
      "261:\tlearn: 0.0000002\ttotal: 2m 6s\tremaining: 1m 54s\n",
      "262:\tlearn: 0.0000001\ttotal: 2m 6s\tremaining: 1m 54s\n",
      "263:\tlearn: 0.0000001\ttotal: 2m 7s\tremaining: 1m 53s\n",
      "264:\tlearn: 0.0000001\ttotal: 2m 7s\tremaining: 1m 53s\n",
      "265:\tlearn: 0.0000001\ttotal: 2m 8s\tremaining: 1m 52s\n",
      "266:\tlearn: 0.0000001\ttotal: 2m 8s\tremaining: 1m 52s\n",
      "267:\tlearn: 0.0000001\ttotal: 2m 9s\tremaining: 1m 51s\n",
      "268:\tlearn: 0.0000001\ttotal: 2m 9s\tremaining: 1m 51s\n",
      "269:\tlearn: 0.0000001\ttotal: 2m 10s\tremaining: 1m 50s\n",
      "270:\tlearn: 0.0000001\ttotal: 2m 10s\tremaining: 1m 50s\n",
      "271:\tlearn: 0.0000001\ttotal: 2m 10s\tremaining: 1m 49s\n",
      "272:\tlearn: 0.0000001\ttotal: 2m 11s\tremaining: 1m 49s\n",
      "273:\tlearn: 0.0000001\ttotal: 2m 11s\tremaining: 1m 48s\n",
      "274:\tlearn: 0.0000001\ttotal: 2m 12s\tremaining: 1m 48s\n",
      "275:\tlearn: 0.0000001\ttotal: 2m 12s\tremaining: 1m 47s\n",
      "276:\tlearn: 0.0000001\ttotal: 2m 13s\tremaining: 1m 47s\n",
      "277:\tlearn: 0.0000000\ttotal: 2m 13s\tremaining: 1m 46s\n",
      "278:\tlearn: 0.0000000\ttotal: 2m 14s\tremaining: 1m 46s\n",
      "279:\tlearn: 0.0000000\ttotal: 2m 14s\tremaining: 1m 45s\n",
      "280:\tlearn: -0.0000000\ttotal: 2m 15s\tremaining: 1m 45s\n",
      "281:\tlearn: -0.0000000\ttotal: 2m 15s\tremaining: 1m 44s\n",
      "282:\tlearn: -0.0000000\ttotal: 2m 16s\tremaining: 1m 44s\n",
      "283:\tlearn: -0.0000000\ttotal: 2m 16s\tremaining: 1m 43s\n",
      "284:\tlearn: -0.0000000\ttotal: 2m 17s\tremaining: 1m 43s\n",
      "285:\tlearn: -0.0000000\ttotal: 2m 17s\tremaining: 1m 42s\n",
      "286:\tlearn: -0.0000000\ttotal: 2m 17s\tremaining: 1m 42s\n",
      "287:\tlearn: -0.0000000\ttotal: 2m 18s\tremaining: 1m 41s\n",
      "288:\tlearn: -0.0000001\ttotal: 2m 18s\tremaining: 1m 41s\n",
      "289:\tlearn: -0.0000001\ttotal: 2m 19s\tremaining: 1m 40s\n",
      "290:\tlearn: -0.0000001\ttotal: 2m 19s\tremaining: 1m 40s\n",
      "291:\tlearn: -0.0000001\ttotal: 2m 20s\tremaining: 1m 39s\n",
      "292:\tlearn: -0.0000001\ttotal: 2m 20s\tremaining: 1m 39s\n",
      "293:\tlearn: -0.0000001\ttotal: 2m 21s\tremaining: 1m 38s\n",
      "294:\tlearn: -0.0000001\ttotal: 2m 21s\tremaining: 1m 38s\n",
      "295:\tlearn: -0.0000001\ttotal: 2m 22s\tremaining: 1m 37s\n",
      "296:\tlearn: -0.0000001\ttotal: 2m 22s\tremaining: 1m 37s\n",
      "297:\tlearn: -0.0000001\ttotal: 2m 23s\tremaining: 1m 36s\n",
      "298:\tlearn: -0.0000001\ttotal: 2m 23s\tremaining: 1m 36s\n",
      "299:\tlearn: -0.0000001\ttotal: 2m 24s\tremaining: 1m 36s\n",
      "300:\tlearn: -0.0000001\ttotal: 2m 24s\tremaining: 1m 35s\n",
      "301:\tlearn: -0.0000001\ttotal: 2m 24s\tremaining: 1m 35s\n",
      "302:\tlearn: -0.0000001\ttotal: 2m 25s\tremaining: 1m 34s\n",
      "303:\tlearn: -0.0000001\ttotal: 2m 25s\tremaining: 1m 34s\n",
      "304:\tlearn: -0.0000001\ttotal: 2m 26s\tremaining: 1m 33s\n",
      "305:\tlearn: -0.0000001\ttotal: 2m 26s\tremaining: 1m 33s\n",
      "306:\tlearn: -0.0000001\ttotal: 2m 27s\tremaining: 1m 32s\n",
      "307:\tlearn: -0.0000001\ttotal: 2m 27s\tremaining: 1m 32s\n",
      "308:\tlearn: -0.0000002\ttotal: 2m 28s\tremaining: 1m 31s\n",
      "309:\tlearn: -0.0000002\ttotal: 2m 28s\tremaining: 1m 31s\n",
      "310:\tlearn: -0.0000002\ttotal: 2m 29s\tremaining: 1m 30s\n",
      "311:\tlearn: -0.0000002\ttotal: 2m 29s\tremaining: 1m 30s\n",
      "312:\tlearn: -0.0000002\ttotal: 2m 30s\tremaining: 1m 29s\n",
      "313:\tlearn: -0.0000002\ttotal: 2m 30s\tremaining: 1m 29s\n",
      "314:\tlearn: -0.0000002\ttotal: 2m 31s\tremaining: 1m 28s\n",
      "315:\tlearn: -0.0000002\ttotal: 2m 31s\tremaining: 1m 28s\n",
      "316:\tlearn: -0.0000002\ttotal: 2m 32s\tremaining: 1m 27s\n",
      "317:\tlearn: -0.0000002\ttotal: 2m 32s\tremaining: 1m 27s\n",
      "318:\tlearn: -0.0000002\ttotal: 2m 32s\tremaining: 1m 26s\n",
      "319:\tlearn: -0.0000002\ttotal: 2m 33s\tremaining: 1m 26s\n",
      "320:\tlearn: -0.0000002\ttotal: 2m 34s\tremaining: 1m 25s\n",
      "321:\tlearn: -0.0000002\ttotal: 2m 34s\tremaining: 1m 25s\n",
      "322:\tlearn: -0.0000002\ttotal: 2m 34s\tremaining: 1m 24s\n",
      "323:\tlearn: -0.0000002\ttotal: 2m 35s\tremaining: 1m 24s\n",
      "324:\tlearn: -0.0000002\ttotal: 2m 35s\tremaining: 1m 23s\n",
      "325:\tlearn: -0.0000002\ttotal: 2m 36s\tremaining: 1m 23s\n",
      "326:\tlearn: -0.0000002\ttotal: 2m 36s\tremaining: 1m 22s\n",
      "327:\tlearn: -0.0000002\ttotal: 2m 37s\tremaining: 1m 22s\n",
      "328:\tlearn: -0.0000002\ttotal: 2m 37s\tremaining: 1m 21s\n",
      "329:\tlearn: -0.0000002\ttotal: 2m 38s\tremaining: 1m 21s\n",
      "330:\tlearn: -0.0000002\ttotal: 2m 38s\tremaining: 1m 21s\n",
      "331:\tlearn: -0.0000002\ttotal: 2m 39s\tremaining: 1m 20s\n",
      "332:\tlearn: -0.0000002\ttotal: 2m 39s\tremaining: 1m 20s\n",
      "333:\tlearn: -0.0000002\ttotal: 2m 40s\tremaining: 1m 19s\n",
      "334:\tlearn: -0.0000002\ttotal: 2m 40s\tremaining: 1m 19s\n",
      "335:\tlearn: -0.0000002\ttotal: 2m 41s\tremaining: 1m 18s\n",
      "336:\tlearn: -0.0000002\ttotal: 2m 41s\tremaining: 1m 18s\n",
      "337:\tlearn: -0.0000002\ttotal: 2m 41s\tremaining: 1m 17s\n",
      "338:\tlearn: -0.0000002\ttotal: 2m 42s\tremaining: 1m 17s\n",
      "339:\tlearn: -0.0000002\ttotal: 2m 42s\tremaining: 1m 16s\n",
      "340:\tlearn: -0.0000002\ttotal: 2m 43s\tremaining: 1m 16s\n",
      "341:\tlearn: -0.0000002\ttotal: 2m 43s\tremaining: 1m 15s\n",
      "342:\tlearn: -0.0000002\ttotal: 2m 44s\tremaining: 1m 15s\n",
      "343:\tlearn: -0.0000002\ttotal: 2m 44s\tremaining: 1m 14s\n",
      "344:\tlearn: -0.0000003\ttotal: 2m 45s\tremaining: 1m 14s\n",
      "345:\tlearn: -0.0000003\ttotal: 2m 45s\tremaining: 1m 13s\n",
      "346:\tlearn: -0.0000003\ttotal: 2m 46s\tremaining: 1m 13s\n",
      "347:\tlearn: -0.0000003\ttotal: 2m 46s\tremaining: 1m 12s\n",
      "348:\tlearn: -0.0000003\ttotal: 2m 47s\tremaining: 1m 12s\n",
      "349:\tlearn: -0.0000003\ttotal: 2m 47s\tremaining: 1m 11s\n",
      "350:\tlearn: -0.0000003\ttotal: 2m 48s\tremaining: 1m 11s\n",
      "351:\tlearn: -0.0000003\ttotal: 2m 48s\tremaining: 1m 10s\n",
      "352:\tlearn: -0.0000003\ttotal: 2m 48s\tremaining: 1m 10s\n",
      "353:\tlearn: -0.0000003\ttotal: 2m 49s\tremaining: 1m 9s\n",
      "354:\tlearn: -0.0000003\ttotal: 2m 49s\tremaining: 1m 9s\n",
      "355:\tlearn: -0.0000003\ttotal: 2m 50s\tremaining: 1m 8s\n",
      "356:\tlearn: -0.0000003\ttotal: 2m 50s\tremaining: 1m 8s\n",
      "357:\tlearn: -0.0000003\ttotal: 2m 51s\tremaining: 1m 7s\n",
      "358:\tlearn: -0.0000003\ttotal: 2m 51s\tremaining: 1m 7s\n",
      "359:\tlearn: -0.0000003\ttotal: 2m 52s\tremaining: 1m 6s\n",
      "360:\tlearn: -0.0000003\ttotal: 2m 52s\tremaining: 1m 6s\n",
      "361:\tlearn: -0.0000003\ttotal: 2m 53s\tremaining: 1m 6s\n",
      "362:\tlearn: -0.0000003\ttotal: 2m 53s\tremaining: 1m 5s\n",
      "363:\tlearn: -0.0000003\ttotal: 2m 54s\tremaining: 1m 5s\n",
      "364:\tlearn: -0.0000003\ttotal: 2m 54s\tremaining: 1m 4s\n",
      "365:\tlearn: -0.0000003\ttotal: 2m 55s\tremaining: 1m 4s\n",
      "366:\tlearn: -0.0000003\ttotal: 2m 55s\tremaining: 1m 3s\n",
      "367:\tlearn: -0.0000003\ttotal: 2m 56s\tremaining: 1m 3s\n",
      "368:\tlearn: -0.0000003\ttotal: 2m 56s\tremaining: 1m 2s\n",
      "369:\tlearn: -0.0000003\ttotal: 2m 56s\tremaining: 1m 2s\n",
      "370:\tlearn: -0.0000003\ttotal: 2m 57s\tremaining: 1m 1s\n",
      "371:\tlearn: -0.0000003\ttotal: 2m 57s\tremaining: 1m 1s\n",
      "372:\tlearn: -0.0000003\ttotal: 2m 58s\tremaining: 1m\n",
      "373:\tlearn: -0.0000004\ttotal: 2m 58s\tremaining: 1m\n",
      "374:\tlearn: -0.0000004\ttotal: 2m 59s\tremaining: 59.8s\n",
      "375:\tlearn: -0.0000004\ttotal: 2m 59s\tremaining: 59.3s\n",
      "376:\tlearn: -0.0000004\ttotal: 3m\tremaining: 58.8s\n",
      "377:\tlearn: -0.0000004\ttotal: 3m\tremaining: 58.3s\n",
      "378:\tlearn: -0.0000004\ttotal: 3m 1s\tremaining: 57.8s\n",
      "379:\tlearn: -0.0000004\ttotal: 3m 1s\tremaining: 57.3s\n",
      "380:\tlearn: -0.0000004\ttotal: 3m 2s\tremaining: 56.9s\n",
      "381:\tlearn: -0.0000004\ttotal: 3m 2s\tremaining: 56.4s\n",
      "382:\tlearn: -0.0000004\ttotal: 3m 2s\tremaining: 55.9s\n",
      "383:\tlearn: -0.0000004\ttotal: 3m 3s\tremaining: 55.4s\n",
      "384:\tlearn: -0.0000004\ttotal: 3m 3s\tremaining: 54.9s\n",
      "385:\tlearn: -0.0000004\ttotal: 3m 4s\tremaining: 54.5s\n",
      "386:\tlearn: -0.0000004\ttotal: 3m 4s\tremaining: 54s\n",
      "387:\tlearn: -0.0000004\ttotal: 3m 5s\tremaining: 53.5s\n",
      "388:\tlearn: -0.0000004\ttotal: 3m 5s\tremaining: 53s\n",
      "389:\tlearn: -0.0000004\ttotal: 3m 6s\tremaining: 52.6s\n",
      "390:\tlearn: -0.0000004\ttotal: 3m 6s\tremaining: 52.1s\n",
      "391:\tlearn: -0.0000004\ttotal: 3m 7s\tremaining: 51.6s\n",
      "392:\tlearn: -0.0000004\ttotal: 3m 7s\tremaining: 51.1s\n",
      "393:\tlearn: -0.0000004\ttotal: 3m 8s\tremaining: 50.7s\n",
      "394:\tlearn: -0.0000004\ttotal: 3m 8s\tremaining: 50.2s\n",
      "395:\tlearn: -0.0000004\ttotal: 3m 9s\tremaining: 49.7s\n",
      "396:\tlearn: -0.0000004\ttotal: 3m 9s\tremaining: 49.2s\n",
      "397:\tlearn: -0.0000004\ttotal: 3m 10s\tremaining: 48.8s\n",
      "398:\tlearn: -0.0000004\ttotal: 3m 10s\tremaining: 48.3s\n",
      "399:\tlearn: -0.0000004\ttotal: 3m 11s\tremaining: 47.8s\n",
      "400:\tlearn: -0.0000004\ttotal: 3m 11s\tremaining: 47.3s\n",
      "401:\tlearn: -0.0000004\ttotal: 3m 12s\tremaining: 46.8s\n",
      "402:\tlearn: -0.0000004\ttotal: 3m 12s\tremaining: 46.4s\n",
      "403:\tlearn: -0.0000004\ttotal: 3m 13s\tremaining: 45.9s\n",
      "404:\tlearn: -0.0000004\ttotal: 3m 13s\tremaining: 45.4s\n",
      "405:\tlearn: -0.0000004\ttotal: 3m 13s\tremaining: 44.9s\n",
      "406:\tlearn: -0.0000004\ttotal: 3m 14s\tremaining: 44.4s\n",
      "407:\tlearn: -0.0000004\ttotal: 3m 14s\tremaining: 44s\n",
      "408:\tlearn: -0.0000004\ttotal: 3m 15s\tremaining: 43.5s\n",
      "409:\tlearn: -0.0000004\ttotal: 3m 15s\tremaining: 43s\n",
      "410:\tlearn: -0.0000004\ttotal: 3m 16s\tremaining: 42.5s\n",
      "411:\tlearn: -0.0000004\ttotal: 3m 16s\tremaining: 42s\n",
      "412:\tlearn: -0.0000004\ttotal: 3m 17s\tremaining: 41.6s\n",
      "413:\tlearn: -0.0000004\ttotal: 3m 17s\tremaining: 41.1s\n",
      "414:\tlearn: -0.0000004\ttotal: 3m 18s\tremaining: 40.6s\n",
      "415:\tlearn: -0.0000004\ttotal: 3m 18s\tremaining: 40.1s\n",
      "416:\tlearn: -0.0000004\ttotal: 3m 19s\tremaining: 39.6s\n",
      "417:\tlearn: -0.0000005\ttotal: 3m 19s\tremaining: 39.2s\n",
      "418:\tlearn: -0.0000005\ttotal: 3m 20s\tremaining: 38.7s\n",
      "419:\tlearn: -0.0000005\ttotal: 3m 20s\tremaining: 38.2s\n",
      "420:\tlearn: -0.0000005\ttotal: 3m 20s\tremaining: 37.7s\n",
      "421:\tlearn: -0.0000005\ttotal: 3m 21s\tremaining: 37.2s\n",
      "422:\tlearn: -0.0000005\ttotal: 3m 21s\tremaining: 36.8s\n",
      "423:\tlearn: -0.0000005\ttotal: 3m 22s\tremaining: 36.3s\n",
      "424:\tlearn: -0.0000005\ttotal: 3m 22s\tremaining: 35.8s\n",
      "425:\tlearn: -0.0000005\ttotal: 3m 23s\tremaining: 35.3s\n",
      "426:\tlearn: -0.0000005\ttotal: 3m 23s\tremaining: 34.8s\n",
      "427:\tlearn: -0.0000005\ttotal: 3m 24s\tremaining: 34.4s\n",
      "428:\tlearn: -0.0000005\ttotal: 3m 24s\tremaining: 33.9s\n",
      "429:\tlearn: -0.0000005\ttotal: 3m 25s\tremaining: 33.4s\n",
      "430:\tlearn: -0.0000005\ttotal: 3m 25s\tremaining: 32.9s\n",
      "431:\tlearn: -0.0000005\ttotal: 3m 26s\tremaining: 32.5s\n",
      "432:\tlearn: -0.0000005\ttotal: 3m 26s\tremaining: 32s\n",
      "433:\tlearn: -0.0000005\ttotal: 3m 27s\tremaining: 31.5s\n",
      "434:\tlearn: -0.0000005\ttotal: 3m 27s\tremaining: 31s\n",
      "435:\tlearn: -0.0000005\ttotal: 3m 28s\tremaining: 30.6s\n",
      "436:\tlearn: -0.0000005\ttotal: 3m 28s\tremaining: 30.1s\n",
      "437:\tlearn: -0.0000005\ttotal: 3m 29s\tremaining: 29.6s\n",
      "438:\tlearn: -0.0000005\ttotal: 3m 29s\tremaining: 29.1s\n",
      "439:\tlearn: -0.0000005\ttotal: 3m 30s\tremaining: 28.6s\n",
      "440:\tlearn: -0.0000005\ttotal: 3m 30s\tremaining: 28.2s\n",
      "441:\tlearn: -0.0000005\ttotal: 3m 31s\tremaining: 27.7s\n",
      "442:\tlearn: -0.0000005\ttotal: 3m 31s\tremaining: 27.2s\n",
      "443:\tlearn: -0.0000005\ttotal: 3m 31s\tremaining: 26.7s\n",
      "444:\tlearn: -0.0000005\ttotal: 3m 32s\tremaining: 26.3s\n",
      "445:\tlearn: -0.0000005\ttotal: 3m 32s\tremaining: 25.8s\n",
      "446:\tlearn: -0.0000006\ttotal: 3m 33s\tremaining: 25.3s\n",
      "447:\tlearn: -0.0000006\ttotal: 3m 33s\tremaining: 24.8s\n",
      "448:\tlearn: -0.0000006\ttotal: 3m 34s\tremaining: 24.3s\n",
      "449:\tlearn: -0.0000006\ttotal: 3m 34s\tremaining: 23.9s\n",
      "450:\tlearn: -0.0000006\ttotal: 3m 35s\tremaining: 23.4s\n",
      "451:\tlearn: -0.0000006\ttotal: 3m 35s\tremaining: 22.9s\n",
      "452:\tlearn: -0.0000006\ttotal: 3m 36s\tremaining: 22.4s\n",
      "453:\tlearn: -0.0000006\ttotal: 3m 36s\tremaining: 22s\n",
      "454:\tlearn: -0.0000006\ttotal: 3m 37s\tremaining: 21.5s\n",
      "455:\tlearn: -0.0000006\ttotal: 3m 37s\tremaining: 21s\n",
      "456:\tlearn: -0.0000006\ttotal: 3m 38s\tremaining: 20.5s\n",
      "457:\tlearn: -0.0000006\ttotal: 3m 38s\tremaining: 20s\n",
      "458:\tlearn: -0.0000006\ttotal: 3m 39s\tremaining: 19.6s\n",
      "459:\tlearn: -0.0000006\ttotal: 3m 39s\tremaining: 19.1s\n",
      "460:\tlearn: -0.0000006\ttotal: 3m 39s\tremaining: 18.6s\n",
      "461:\tlearn: -0.0000006\ttotal: 3m 40s\tremaining: 18.1s\n",
      "462:\tlearn: -0.0000006\ttotal: 3m 40s\tremaining: 17.6s\n",
      "463:\tlearn: -0.0000006\ttotal: 3m 41s\tremaining: 17.2s\n",
      "464:\tlearn: -0.0000007\ttotal: 3m 41s\tremaining: 16.7s\n",
      "465:\tlearn: -0.0000007\ttotal: 3m 42s\tremaining: 16.2s\n",
      "466:\tlearn: -0.0000007\ttotal: 3m 42s\tremaining: 15.7s\n",
      "467:\tlearn: -0.0000007\ttotal: 3m 43s\tremaining: 15.3s\n",
      "468:\tlearn: -0.0000007\ttotal: 3m 43s\tremaining: 14.8s\n",
      "469:\tlearn: -0.0000007\ttotal: 3m 44s\tremaining: 14.3s\n",
      "470:\tlearn: -0.0000007\ttotal: 3m 44s\tremaining: 13.8s\n",
      "471:\tlearn: -0.0000007\ttotal: 3m 44s\tremaining: 13.3s\n",
      "472:\tlearn: -0.0000007\ttotal: 3m 45s\tremaining: 12.9s\n",
      "473:\tlearn: -0.0000007\ttotal: 3m 45s\tremaining: 12.4s\n",
      "474:\tlearn: -0.0000007\ttotal: 3m 46s\tremaining: 11.9s\n",
      "475:\tlearn: -0.0000007\ttotal: 3m 46s\tremaining: 11.4s\n",
      "476:\tlearn: -0.0000007\ttotal: 3m 47s\tremaining: 11s\n",
      "477:\tlearn: -0.0000007\ttotal: 3m 47s\tremaining: 10.5s\n",
      "478:\tlearn: -0.0000007\ttotal: 3m 48s\tremaining: 10s\n",
      "479:\tlearn: -0.0000007\ttotal: 3m 48s\tremaining: 9.53s\n",
      "480:\tlearn: -0.0000007\ttotal: 3m 49s\tremaining: 9.05s\n",
      "481:\tlearn: -0.0000007\ttotal: 3m 49s\tremaining: 8.58s\n",
      "482:\tlearn: -0.0000007\ttotal: 3m 50s\tremaining: 8.1s\n",
      "483:\tlearn: -0.0000007\ttotal: 3m 50s\tremaining: 7.63s\n",
      "484:\tlearn: -0.0000007\ttotal: 3m 51s\tremaining: 7.15s\n",
      "485:\tlearn: -0.0000007\ttotal: 3m 51s\tremaining: 6.67s\n",
      "486:\tlearn: -0.0000008\ttotal: 3m 52s\tremaining: 6.19s\n",
      "487:\tlearn: -0.0000008\ttotal: 3m 52s\tremaining: 5.72s\n",
      "488:\tlearn: -0.0000008\ttotal: 3m 52s\tremaining: 5.24s\n",
      "489:\tlearn: -0.0000008\ttotal: 3m 53s\tremaining: 4.76s\n",
      "490:\tlearn: -0.0000008\ttotal: 3m 53s\tremaining: 4.29s\n",
      "491:\tlearn: -0.0000008\ttotal: 3m 54s\tremaining: 3.81s\n",
      "492:\tlearn: -0.0000008\ttotal: 3m 54s\tremaining: 3.34s\n",
      "493:\tlearn: -0.0000008\ttotal: 3m 55s\tremaining: 2.86s\n",
      "494:\tlearn: -0.0000008\ttotal: 3m 55s\tremaining: 2.38s\n",
      "495:\tlearn: -0.0000008\ttotal: 3m 56s\tremaining: 1.91s\n",
      "496:\tlearn: -0.0000008\ttotal: 3m 56s\tremaining: 1.43s\n",
      "497:\tlearn: -0.0000008\ttotal: 3m 57s\tremaining: 953ms\n",
      "498:\tlearn: -0.0000008\ttotal: 3m 57s\tremaining: 477ms\n",
      "499:\tlearn: -0.0000008\ttotal: 3m 58s\tremaining: 0us\n",
      "Accuracy of CatBoost: 0.9999957007831024\n"
     ]
    }
   ],
   "source": [
    "model_catboost = CatBoostClassifier(iterations=500, depth=5, learning_rate=0.05, loss_function='Logloss', random_state=42)\n",
    "model_catboost.fit(X_train, y_train)\n",
    "predictions_catboost = model_catboost.predict(X_test)\n",
    "\n",
    "# качество\n",
    "accuracy_catboost = accuracy_score(y_test, predictions_catboost)\n",
    "print(f\"Accuracy of CatBoost: {accuracy_catboost}\")"
   ]
  },
  {
   "cell_type": "code",
   "execution_count": 74,
   "metadata": {
    "colab": {
     "base_uri": "https://localhost:8080/"
    },
    "id": "ECuEtMbtRGZJ",
    "outputId": "cd90dce6-e156-44ea-d8fd-2c68398683ee"
   },
   "outputs": [
    {
     "name": "stdout",
     "output_type": "stream",
     "text": [
      "0:\tlearn: 0.2892115\ttotal: 392ms\tremaining: 38.8s\n",
      "1:\tlearn: 0.1159450\ttotal: 822ms\tremaining: 40.3s\n",
      "2:\tlearn: 0.0453335\ttotal: 1.23s\tremaining: 39.9s\n",
      "3:\tlearn: 0.0180892\ttotal: 1.64s\tremaining: 39.3s\n",
      "4:\tlearn: 0.0079351\ttotal: 2s\tremaining: 38.1s\n",
      "5:\tlearn: 0.0035709\ttotal: 2.39s\tremaining: 37.4s\n",
      "6:\tlearn: 0.0016502\ttotal: 2.79s\tremaining: 37s\n",
      "7:\tlearn: 0.0008027\ttotal: 3.17s\tremaining: 36.4s\n",
      "8:\tlearn: 0.0004189\ttotal: 3.58s\tremaining: 36.2s\n",
      "9:\tlearn: 0.0002343\ttotal: 3.99s\tremaining: 35.9s\n",
      "10:\tlearn: 0.0001414\ttotal: 4.38s\tremaining: 35.5s\n",
      "11:\tlearn: 0.0000901\ttotal: 4.81s\tremaining: 35.3s\n",
      "12:\tlearn: 0.0000601\ttotal: 5.21s\tremaining: 34.9s\n",
      "13:\tlearn: 0.0000431\ttotal: 5.67s\tremaining: 34.9s\n",
      "14:\tlearn: 0.0000317\ttotal: 6.07s\tremaining: 34.4s\n",
      "15:\tlearn: 0.0000256\ttotal: 6.47s\tremaining: 34s\n",
      "16:\tlearn: 0.0000205\ttotal: 6.87s\tremaining: 33.6s\n",
      "17:\tlearn: 0.0000157\ttotal: 7.28s\tremaining: 33.2s\n",
      "18:\tlearn: 0.0000134\ttotal: 7.7s\tremaining: 32.8s\n",
      "19:\tlearn: 0.0000120\ttotal: 8.1s\tremaining: 32.4s\n",
      "20:\tlearn: 0.0000106\ttotal: 8.52s\tremaining: 32.1s\n",
      "21:\tlearn: 0.0000096\ttotal: 8.95s\tremaining: 31.7s\n",
      "22:\tlearn: 0.0000086\ttotal: 9.35s\tremaining: 31.3s\n",
      "23:\tlearn: 0.0000080\ttotal: 9.76s\tremaining: 30.9s\n",
      "24:\tlearn: 0.0000074\ttotal: 10.2s\tremaining: 30.5s\n",
      "25:\tlearn: 0.0000070\ttotal: 10.6s\tremaining: 30.2s\n",
      "26:\tlearn: 0.0000065\ttotal: 11s\tremaining: 29.8s\n",
      "27:\tlearn: 0.0000061\ttotal: 11.4s\tremaining: 29.4s\n",
      "28:\tlearn: 0.0000058\ttotal: 11.9s\tremaining: 29.1s\n",
      "29:\tlearn: 0.0000055\ttotal: 12.3s\tremaining: 28.7s\n",
      "30:\tlearn: 0.0000054\ttotal: 12.7s\tremaining: 28.3s\n",
      "31:\tlearn: 0.0000052\ttotal: 13.1s\tremaining: 27.9s\n",
      "32:\tlearn: 0.0000051\ttotal: 13.6s\tremaining: 27.6s\n",
      "33:\tlearn: 0.0000049\ttotal: 14s\tremaining: 27.3s\n",
      "34:\tlearn: 0.0000047\ttotal: 14.5s\tremaining: 26.9s\n",
      "35:\tlearn: 0.0000046\ttotal: 14.9s\tremaining: 26.5s\n",
      "36:\tlearn: 0.0000044\ttotal: 15.3s\tremaining: 26.1s\n",
      "37:\tlearn: 0.0000042\ttotal: 15.8s\tremaining: 25.8s\n",
      "38:\tlearn: 0.0000041\ttotal: 16.2s\tremaining: 25.4s\n",
      "39:\tlearn: 0.0000039\ttotal: 16.7s\tremaining: 25s\n",
      "40:\tlearn: 0.0000038\ttotal: 17.1s\tremaining: 24.7s\n",
      "41:\tlearn: 0.0000037\ttotal: 17.6s\tremaining: 24.3s\n",
      "42:\tlearn: 0.0000035\ttotal: 18s\tremaining: 23.9s\n",
      "43:\tlearn: 0.0000034\ttotal: 18.4s\tremaining: 23.5s\n",
      "44:\tlearn: 0.0000033\ttotal: 18.9s\tremaining: 23.1s\n",
      "45:\tlearn: 0.0000032\ttotal: 19.3s\tremaining: 22.7s\n",
      "46:\tlearn: 0.0000031\ttotal: 19.8s\tremaining: 22.3s\n",
      "47:\tlearn: 0.0000030\ttotal: 20.2s\tremaining: 21.9s\n",
      "48:\tlearn: 0.0000030\ttotal: 20.6s\tremaining: 21.5s\n",
      "49:\tlearn: 0.0000029\ttotal: 21.1s\tremaining: 21.1s\n",
      "50:\tlearn: 0.0000028\ttotal: 21.5s\tremaining: 20.7s\n",
      "51:\tlearn: 0.0000027\ttotal: 22s\tremaining: 20.3s\n",
      "52:\tlearn: 0.0000026\ttotal: 22.5s\tremaining: 19.9s\n",
      "53:\tlearn: 0.0000025\ttotal: 22.9s\tremaining: 19.5s\n",
      "54:\tlearn: 0.0000024\ttotal: 23.4s\tremaining: 19.1s\n",
      "55:\tlearn: 0.0000023\ttotal: 23.8s\tremaining: 18.7s\n",
      "56:\tlearn: 0.0000022\ttotal: 24.3s\tremaining: 18.3s\n",
      "57:\tlearn: 0.0000021\ttotal: 24.7s\tremaining: 17.9s\n",
      "58:\tlearn: 0.0000021\ttotal: 25.2s\tremaining: 17.5s\n",
      "59:\tlearn: 0.0000020\ttotal: 25.7s\tremaining: 17.1s\n",
      "60:\tlearn: 0.0000020\ttotal: 26.1s\tremaining: 16.7s\n",
      "61:\tlearn: 0.0000019\ttotal: 26.6s\tremaining: 16.3s\n",
      "62:\tlearn: 0.0000018\ttotal: 27s\tremaining: 15.9s\n",
      "63:\tlearn: 0.0000018\ttotal: 27.5s\tremaining: 15.4s\n",
      "64:\tlearn: 0.0000017\ttotal: 27.9s\tremaining: 15s\n",
      "65:\tlearn: 0.0000017\ttotal: 28.4s\tremaining: 14.6s\n",
      "66:\tlearn: 0.0000017\ttotal: 28.8s\tremaining: 14.2s\n",
      "67:\tlearn: 0.0000016\ttotal: 29.3s\tremaining: 13.8s\n",
      "68:\tlearn: 0.0000016\ttotal: 29.8s\tremaining: 13.4s\n",
      "69:\tlearn: 0.0000015\ttotal: 30.2s\tremaining: 13s\n",
      "70:\tlearn: 0.0000015\ttotal: 30.7s\tremaining: 12.5s\n",
      "71:\tlearn: 0.0000014\ttotal: 31.1s\tremaining: 12.1s\n",
      "72:\tlearn: 0.0000014\ttotal: 31.6s\tremaining: 11.7s\n",
      "73:\tlearn: 0.0000014\ttotal: 32.1s\tremaining: 11.3s\n",
      "74:\tlearn: 0.0000013\ttotal: 32.6s\tremaining: 10.9s\n",
      "75:\tlearn: 0.0000013\ttotal: 33s\tremaining: 10.4s\n",
      "76:\tlearn: 0.0000013\ttotal: 33.5s\tremaining: 10s\n",
      "77:\tlearn: 0.0000012\ttotal: 34s\tremaining: 9.58s\n",
      "78:\tlearn: 0.0000012\ttotal: 34.5s\tremaining: 9.16s\n",
      "79:\tlearn: 0.0000012\ttotal: 35s\tremaining: 8.74s\n",
      "80:\tlearn: 0.0000011\ttotal: 35.4s\tremaining: 8.31s\n",
      "81:\tlearn: 0.0000011\ttotal: 35.9s\tremaining: 7.88s\n",
      "82:\tlearn: 0.0000010\ttotal: 36.3s\tremaining: 7.44s\n",
      "83:\tlearn: 0.0000010\ttotal: 36.8s\tremaining: 7.01s\n",
      "84:\tlearn: 0.0000010\ttotal: 37.3s\tremaining: 6.58s\n",
      "85:\tlearn: 0.0000009\ttotal: 37.7s\tremaining: 6.14s\n",
      "86:\tlearn: 0.0000009\ttotal: 38.2s\tremaining: 5.71s\n",
      "87:\tlearn: 0.0000009\ttotal: 38.7s\tremaining: 5.28s\n",
      "88:\tlearn: 0.0000008\ttotal: 39.2s\tremaining: 4.84s\n",
      "89:\tlearn: 0.0000008\ttotal: 39.6s\tremaining: 4.4s\n",
      "90:\tlearn: 0.0000007\ttotal: 40.1s\tremaining: 3.97s\n",
      "91:\tlearn: 0.0000007\ttotal: 40.6s\tremaining: 3.53s\n",
      "92:\tlearn: 0.0000007\ttotal: 41.1s\tremaining: 3.09s\n",
      "93:\tlearn: 0.0000007\ttotal: 41.5s\tremaining: 2.65s\n",
      "94:\tlearn: 0.0000006\ttotal: 42s\tremaining: 2.21s\n",
      "95:\tlearn: 0.0000006\ttotal: 42.5s\tremaining: 1.77s\n",
      "96:\tlearn: 0.0000006\ttotal: 43s\tremaining: 1.33s\n",
      "97:\tlearn: 0.0000006\ttotal: 43.4s\tremaining: 886ms\n",
      "98:\tlearn: 0.0000005\ttotal: 43.9s\tremaining: 443ms\n",
      "99:\tlearn: 0.0000005\ttotal: 44.4s\tremaining: 0us\n",
      "Accuracy of the ensemble: 0.9999961307047921\n"
     ]
    }
   ],
   "source": [
    "model1 = GradientBoostingClassifier(learning_rate=0.05, n_estimators=100, random_state=42)\n",
    "model2 = RandomForestClassifier(n_estimators=100, class_weight='balanced', random_state=42)\n",
    "model3 = LogisticRegression(random_state=42)\n",
    "model_catboost_2 = CatBoostClassifier(iterations=100, depth=5, learning_rate=0.1, loss_function='Logloss', random_state=42)\n",
    "\n",
    "ensemble_model = VotingClassifier(estimators=[\n",
    "    ('gb', model1),\n",
    "    ('rf', model2),\n",
    "    ('lr', model3),\n",
    "    ('catboost', model_catboost_2)\n",
    "], voting='hard')\n",
    "\n",
    "ensemble_model.fit(X_train, y_train)\n",
    "predictions = ensemble_model.predict(X_test)\n",
    "\n",
    "accuracy = accuracy_score(y_test, predictions)\n",
    "print(f\"Accuracy of the ensemble: {accuracy}\")"
   ]
  },
  {
   "cell_type": "markdown",
   "metadata": {
    "id": "MDKj_bAQ1OpT"
   },
   "source": [
    "## Используем модель"
   ]
  },
  {
   "cell_type": "markdown",
   "metadata": {},
   "source": [
    "ранжирование по count_education, education_level, age, aria"
   ]
  },
  {
   "cell_type": "raw",
   "metadata": {
    "id": "CAe2RnGG1VzC"
   },
   "source": [
    "Все в строке prediction_class_0 = 1 -> Значит резюме прошло"
   ]
  }
 ],
 "metadata": {
  "colab": {
   "provenance": []
  },
  "kernelspec": {
   "display_name": "Python 3 (ipykernel)",
   "language": "python",
   "name": "python3"
  },
  "language_info": {
   "codemirror_mode": {
    "name": "ipython",
    "version": 3
   },
   "file_extension": ".py",
   "mimetype": "text/x-python",
   "name": "python",
   "nbconvert_exporter": "python",
   "pygments_lexer": "ipython3",
   "version": "3.10.9"
  }
 },
 "nbformat": 4,
 "nbformat_minor": 4
}
